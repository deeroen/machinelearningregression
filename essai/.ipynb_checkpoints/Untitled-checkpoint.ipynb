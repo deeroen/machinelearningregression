{
 "cells": [
  {
   "cell_type": "markdown",
   "metadata": {},
   "source": [
    "# Load data"
   ]
  },
  {
   "cell_type": "code",
   "execution_count": 3,
   "metadata": {},
   "outputs": [],
   "source": [
    "import pandas as pd\n",
    "\n",
    "X1 = pd.read_csv(\"X1.csv\") # [7684 rows x 15 columns]\n",
    "Y1 = pd.read_csv(\"Y1.csv\",sep='\\t',names=[\"Label\"]) # [7684 rows x 1 columns]\n",
    "X2 = pd.read_csv(\"X2.csv\") # [3787 rows x 15 columns]"
   ]
  },
  {
   "cell_type": "markdown",
   "metadata": {},
   "source": [
    "# Visualize data"
   ]
  },
  {
   "cell_type": "code",
   "execution_count": 86,
   "metadata": {},
   "outputs": [],
   "source": [
    "import matplotlib.pyplot as plt\n",
    "\n",
    "def visualize(X, Y):\n",
    "    n_sample, n_feature = X.shape\n",
    "    feature_names = X.keys()\n",
    "    \n",
    "    for k in feature_names :\n",
    "        plt.scatter(X[k], Y)\n",
    "        plt.title(k)\n",
    "        plt.show()\n",
    "    #plt.savefig('essai.pdf')\n",
    "\n",
    "# Decomment to visualize\n",
    "# visualize(X1, Y1)"
   ]
  },
  {
   "cell_type": "markdown",
   "metadata": {},
   "source": [
    "### Remarques : \n",
    "données cycliques : month, day, hour, wd (wind direction) \n",
    "\n",
    "NO2, CO : +/- linéaire\n",
    "\n",
    "station : pas de lien dans les numéros de station ?"
   ]
  },
  {
   "cell_type": "markdown",
   "metadata": {},
   "source": [
    "# Data treatments"
   ]
  },
  {
   "cell_type": "markdown",
   "metadata": {},
   "source": [
    "### Handle cyclic values"
   ]
  },
  {
   "cell_type": "code",
   "execution_count": 106,
   "metadata": {},
   "outputs": [
    {
     "name": "stdout",
     "output_type": "stream",
     "text": [
      "(7684, 33)\n"
     ]
    }
   ],
   "source": [
    "def handlecyclic(data_frame):\n",
    "    df = data_frame.copy()\n",
    "    # handle hour values\n",
    "    df['hr_sin'] = np.sin(df['hour']*(2.*np.pi/24))\n",
    "    df['hr_cos'] = np.cos(df['hour']*(2.*np.pi/24))\n",
    "    # handle month values\n",
    "    df['mnth_sin'] = np.sin((df['month']-1)*(2.*np.pi/12))\n",
    "    df['mnth_cos'] = np.cos((df['month']-1)*(2.*np.pi/12))\n",
    "    # handle day values\n",
    "    df['day_sin'] = np.sin((df['day'] - 1) * (2. * np.pi / 12))\n",
    "    df['day_cos'] = np.cos((df['day'] - 1) * (2. * np.pi / 12))\n",
    "    # handle wind direction\n",
    "    df = df.replace({'N': 0,'NNE':1,'NE':2,'ENE':3,'E':4,'ESE':5,'SE':6,'SSE':7,'S':8,'SSW':9,'SW':10,'WSW':11,'W':12,'WNW':13,'NW':14,'NNW':15})\n",
    "    df['wd_sin'] = np.sin((df['wd']) * (2. * np.pi / 16))\n",
    "    df['wd_cos'] = np.cos((df['wd']) * (2. * np.pi / 16))\n",
    "    df = df.drop(['wd'], axis=1)\n",
    "    return df\n",
    "\n",
    "def handle_station(df):\n",
    "    return pd.concat([df.drop(['station'], axis=1), pd.get_dummies(df['station']).add_prefix('station_')], axis=1)\n",
    "\n",
    "X1_handled = handlecyclic(X1)\n",
    "X1_handled = handle_station(X1_handled)\n",
    "print(X1_handled.shape)"
   ]
  },
  {
   "cell_type": "markdown",
   "metadata": {},
   "source": [
    "### Add linear time"
   ]
  },
  {
   "cell_type": "code",
   "execution_count": 107,
   "metadata": {},
   "outputs": [
    {
     "name": "stdout",
     "output_type": "stream",
     "text": [
      "(7684, 34)\n"
     ]
    }
   ],
   "source": [
    "def add_linear_time(data_frame):\n",
    "    df2 = pd.DataFrame()\n",
    "    df2['time'] = ((data_frame['year']+data_frame['month']/12)*100+data_frame['day']/31)*100+data_frame['hour']/24\n",
    "    #df2['time'] = data_frame['year']*1000000+(data_frame['month']/12)*1000+(data_frame['day']/31)*10+(data_frame['hour']/24)\n",
    "    return pd.concat([data_frame, df2], axis=1)\n",
    "\n",
    "X1_handled = add_linear_time(X1_handled)\n",
    "\n",
    "print(X1_handled.shape)\n",
    "\n",
    "# Decomment to visualize\n",
    "# visualize(X1_handled, Y1)"
   ]
  },
  {
   "cell_type": "markdown",
   "metadata": {},
   "source": []
  },
  {
   "cell_type": "code",
   "execution_count": 228,
   "metadata": {},
   "outputs": [],
   "source": []
  },
  {
   "cell_type": "markdown",
   "metadata": {},
   "source": [
    "# Normalisation or standardisation"
   ]
  },
  {
   "cell_type": "markdown",
   "metadata": {},
   "source": [
    "### Normalization "
   ]
  },
  {
   "cell_type": "code",
   "execution_count": 229,
   "metadata": {},
   "outputs": [
    {
     "name": "stdout",
     "output_type": "stream",
     "text": [
      "0.3686624519647538 0.5227188207850164\n",
      "0.0 1.0\n",
      "0.0 0.9999999999999999\n"
     ]
    }
   ],
   "source": [
    "from sklearn.preprocessing import MinMaxScaler\n",
    "# use of https://mrmint.fr/data-preprocessing-feature-scaling-python\n",
    "'''Min-Max Scaling peut- être appliqué quand les données varient dans des échelles différentes. \n",
    "A l’issue de cette transformation, les features seront comprises dans un intervalle fixe [0,1]'''\n",
    "\n",
    "minmax_scale = MinMaxScaler().fit(X1_train)\n",
    "X1_norm = minmax_scale.transform(X1_train)\n",
    "\n",
    "print(X1_norm[:,0].mean(), X1_norm[:,1].mean())\n",
    "print(X1_norm[:,0].min(), X1_norm[:,0].max())\n",
    "print(X1_norm[:,12].min(), X1_norm[:,12].max())"
   ]
  },
  {
   "cell_type": "markdown",
   "metadata": {},
   "source": [
    "### Standardisation "
   ]
  },
  {
   "cell_type": "code",
   "execution_count": 230,
   "metadata": {
    "scrolled": true
   },
   "outputs": [
    {
     "name": "stdout",
     "output_type": "stream",
     "text": [
      "1.2328405310384245e-13 -8.455696372005655e-17\n",
      "-1.375376330602746 2.3553435278281034\n",
      "-1.3668766186872858 5.999485203474348\n",
      "0.9999999999999999 1.0\n"
     ]
    }
   ],
   "source": [
    "# use of https://mrmint.fr/data-preprocessing-feature-scaling-python\n",
    "\n",
    "from sklearn.preprocessing import StandardScaler \n",
    "'''La standardisation (aussi appelée Z-Score normalisation peut- être appliquée quand les input features répondent\n",
    "à des distributions normales (Distributions Gaussiennes) avec des moyennes et des écart-types différents. \n",
    "Par conséquent, cette transformation aura pour impact d’avoir toutes nos features répondant à la même \n",
    "loi normale X \\sim \\mathcal{N} (0, \\, 1).\n",
    "La standardisation peut également être appliquée quand les features ont des unités différentes.'''\n",
    "\n",
    "# Z-score standardisation\n",
    "std_scaler = StandardScaler().fit(X1_train)\n",
    "X1_stand = std_scaler.transform(X1_train)\n",
    "\n",
    "print(X1_stand[:,0].mean(), X1_stand[:,1].mean())\n",
    "print(X1_stand[:,0].min(), X1_stand[:,0].max())\n",
    "print(X1_stand[:,12].min(), X1_stand[:,12].max())\n",
    "print(X1_stand[:,0].std(), X1_stand[:,1].std())"
   ]
  },
  {
   "cell_type": "markdown",
   "metadata": {},
   "source": [
    "# Data splitting"
   ]
  },
  {
   "cell_type": "code",
   "execution_count": null,
   "metadata": {},
   "outputs": [],
   "source": [
    "# 70% training\n",
    "# 30% test\n",
    "\n",
    "n = len(X1_handled['CO'])\n",
    "m = 70*n//100 # 5378\n",
    "X1_train = X1_handled.values[0:m,:]\n",
    "X1_valid = X1_handled.values[m:n,:]\n",
    "\n",
    "Y1_train = Y1.values[0:m,:]\n",
    "Y1_valid = Y1.values[m:n,:]"
   ]
  },
  {
   "cell_type": "markdown",
   "metadata": {},
   "source": [
    "# Feature selection"
   ]
  },
  {
   "cell_type": "markdown",
   "metadata": {},
   "source": [
    "### Show correlation"
   ]
  },
  {
   "cell_type": "code",
   "execution_count": 232,
   "metadata": {},
   "outputs": [
    {
     "name": "stdout",
     "output_type": "stream",
     "text": [
      "Correlation : \n",
      "correlation =  -0.0750513044401106 \t \t 20 wd_cos\n",
      "correlation =  0.10249174746825244 \t \t 10 DEWP\n",
      "correlation =  0.13142439144516793 \t \t 19 wd_sin\n",
      "correlation =  -0.16143772698991263 \t \t 8 TEMP\n",
      "correlation =  -0.1725773769709249 \t \t 7 O3\n",
      "correlation =  0.1885449761039995 \t \t 16 mnth_cos\n",
      "correlation =  -0.2645385498919343 \t \t 12 WSPM\n",
      "correlation =  0.4803320243340484 \t \t 4 SO2\n",
      "correlation =  0.6461805946323071 \t \t 5 NO2\n",
      "correlation =  0.7626706385557319 \t \t 6 CO\n"
     ]
    }
   ],
   "source": [
    "# print des n features avec les plus grandes correlations\n",
    "def print_correlation(X, Y, n):\n",
    "    print(\"Correlation : \")\n",
    "    corrcoef = np.corrcoef(X, Y, rowvar=False)[-1, :33]\n",
    "    #print(np.around(corrcoef, decimals=3))\n",
    "    most_corr = np.argsort(np.abs(corrcoef))\n",
    "    feature_names = X1_handled.keys()\n",
    "    for ind in most_corr[len(most_corr)-n: len(most_corr)]: # print des 10 meilleurs\n",
    "        print(\"correlation = \", corrcoef[ind], '\\t \\t', ind, feature_names[ind])\n",
    "\n",
    "print_correlation(X1_stand, Y1_train, 10)"
   ]
  },
  {
   "cell_type": "markdown",
   "metadata": {},
   "source": [
    "### Show mutual information"
   ]
  },
  {
   "cell_type": "code",
   "execution_count": 238,
   "metadata": {},
   "outputs": [
    {
     "name": "stdout",
     "output_type": "stream",
     "text": [
      "Mutual Information : \n",
      "mutual_information =  0.057715945019204185 \t \t 1 month\n",
      "mutual_information =  0.0600578106043832 \t \t 8 TEMP\n",
      "mutual_information =  0.061542181093055426 \t \t 9 PRES\n",
      "mutual_information =  0.07256593612400408 \t \t 12 WSPM\n",
      "mutual_information =  0.13174303151254207 \t \t 7 O3\n",
      "mutual_information =  0.13345731943812833 \t \t 10 DEWP\n",
      "mutual_information =  0.14531592961513518 \t \t 33 time\n",
      "mutual_information =  0.17910087673240138 \t \t 4 SO2\n",
      "mutual_information =  0.3226822002579972 \t \t 5 NO2\n",
      "mutual_information =  0.6310117340972039 \t \t 6 CO\n",
      "[11 32 28 29 30 22  0 27 23 31 21 19 17 24 26 13 25 18 14 15  3 20  2 16\n",
      "  1  8  9 12  7 10 33  4  5  6]\n"
     ]
    }
   ],
   "source": [
    "import sklearn.feature_selection as fs\n",
    "\n",
    "# print des n features avec les plus grandes mutual information\n",
    "def print_mutual_information(X,Y, n):\n",
    "    print(\"Mutual Information : \")\n",
    "    mi = fs.mutual_info_regression(X, Y)\n",
    "    #print(np.around(fs.mutual_info_regression(X, Y[:, 0]), 3))\n",
    "    most_mi =  np.argsort(np.abs(mi))\n",
    "    feature_names = X1_handled.keys()\n",
    "    for ind in most_mi[len(most_mi)-n: len(most_mi)]:\n",
    "        print( \"mutual_information = \", mi[ind], '\\t \\t', ind, feature_names[ind])\n",
    "    return most_mi\n",
    "\n",
    "most_mi = print_mutual_information(X1_stand, Y1_train.ravel(), 10)\n",
    "print(most_mi)\n"
   ]
  },
  {
   "cell_type": "markdown",
   "metadata": {},
   "source": [
    "### Select features"
   ]
  },
  {
   "cell_type": "code",
   "execution_count": 235,
   "metadata": {},
   "outputs": [],
   "source": [
    "from sklearn.feature_selection import SelectKBest\n",
    "from sklearn.tree import DecisionTreeRegressor\n",
    "from sklearn import feature_selection\n",
    "\n",
    "def features_selection(scaled_df, target, nb_of_features):\n",
    "    # Select with mutual information\n",
    "    selector = SelectKBest(feature_selection.mutual_info_regression, k=nb_of_features)\n",
    "    selector.fit_transform(scaled_df, target)\n",
    "    # Get columns to keep\n",
    "    cols1 = scaled_df.columns[selector.get_support(indices=True)]\n",
    "\n",
    "    # Select with F-value between label/feature for regression tasks\n",
    "    selector = SelectKBest(feature_selection.f_regression, k=nb_of_features)\n",
    "    selector.fit_transform(scaled_df, target)\n",
    "    # Get columns to keep\n",
    "    cols2 = scaled_df.columns[selector.get_support(indices=True)]\n",
    "\n",
    "    # Select variables with tree\n",
    "    clf = DecisionTreeRegressor(max_depth=5)\n",
    "    clf = clf.fit(scaled_df, target)\n",
    "    # Get the most important feature\n",
    "    importances = clf.feature_importances_\n",
    "\n",
    "    cols3 = list(scaled_df.columns[np.flip(np.argsort(importances)[-nb_of_features:])])\n",
    "\n",
    "    features = list(set(list(cols1)) | set(list(cols2)) | set(list(cols3)))\n",
    "    # Create new dataframe with only desired columns, or overwrite existing\n",
    "    a_scaled = scaled_df[features]\n",
    "\n",
    "    return a_scaled\n",
    "\n",
    "#df = features_selection(X1_stand, Y1.values.ravel(), 10)\n",
    "#print(df)\n",
    "\n",
    "#print(X1_stand)"
   ]
  },
  {
   "cell_type": "code",
   "execution_count": 239,
   "metadata": {},
   "outputs": [],
   "source": [
    "n = 7\n",
    "index_selectec = most_mi[len(most_mi)-n: len(most_mi)]\n",
    "\n"
   ]
  },
  {
   "cell_type": "code",
   "execution_count": 11,
   "metadata": {},
   "outputs": [
    {
     "name": "stdout",
     "output_type": "stream",
     "text": [
      "year\n",
      "month\n",
      "day\n",
      "hour\n",
      "SO2\n",
      "NO2\n",
      "CO\n",
      "O3\n",
      "TEMP\n",
      "PRES\n",
      "DEWP\n",
      "RAIN\n",
      "wd\n",
      "WSPM\n",
      "station\n"
     ]
    }
   ],
   "source": [
    "for k in X1.keys():\n",
    "    print(k)"
   ]
  },
  {
   "cell_type": "code",
   "execution_count": 13,
   "metadata": {},
   "outputs": [
    {
     "name": "stdout",
     "output_type": "stream",
     "text": [
      "0       2013\n",
      "1       2013\n",
      "2       2013\n",
      "3       2013\n",
      "4       2013\n",
      "        ... \n",
      "7679    2017\n",
      "7680    2017\n",
      "7681    2017\n",
      "7682    2017\n",
      "7683    2017\n",
      "Name: year, Length: 7684, dtype: int64\n"
     ]
    }
   ],
   "source": [
    "print(X1['year'])"
   ]
  },
  {
   "cell_type": "code",
   "execution_count": 48,
   "metadata": {},
   "outputs": [
    {
     "name": "stdout",
     "output_type": "stream",
     "text": [
      "[1, 3]\n"
     ]
    }
   ],
   "source": [
    "import numpy as np\n",
    "X = pd.concat([X1.drop(['station'], axis=1), pd.get_dummies(X1['station']).add_prefix('station_')], axis=1)\n",
    "\n",
    "\n",
    "y = [0, 1, 0, 1]\n",
    "index = [ind for ind,value in enumerate(y) if value==1]\n",
    "print(index)\n",
    "\n",
    "\n",
    "    "
   ]
  },
  {
   "cell_type": "code",
   "execution_count": 50,
   "metadata": {},
   "outputs": [
    {
     "name": "stdout",
     "output_type": "stream",
     "text": [
      "0        3\n",
      "1        9\n",
      "2        6\n",
      "3        5\n",
      "4        9\n",
      "        ..\n",
      "7679    11\n",
      "7680     3\n",
      "7681     4\n",
      "7682     4\n",
      "7683     8\n",
      "Name: station, Length: 7684, dtype: int64\n"
     ]
    },
    {
     "data": {
      "text/html": [
       "<div>\n",
       "<style scoped>\n",
       "    .dataframe tbody tr th:only-of-type {\n",
       "        vertical-align: middle;\n",
       "    }\n",
       "\n",
       "    .dataframe tbody tr th {\n",
       "        vertical-align: top;\n",
       "    }\n",
       "\n",
       "    .dataframe thead th {\n",
       "        text-align: right;\n",
       "    }\n",
       "</style>\n",
       "<table border=\"1\" class=\"dataframe\">\n",
       "  <thead>\n",
       "    <tr style=\"text-align: right;\">\n",
       "      <th></th>\n",
       "      <th>station_0</th>\n",
       "      <th>station_1</th>\n",
       "      <th>station_2</th>\n",
       "      <th>station_3</th>\n",
       "      <th>station_4</th>\n",
       "      <th>station_5</th>\n",
       "      <th>station_6</th>\n",
       "      <th>station_7</th>\n",
       "      <th>station_8</th>\n",
       "      <th>station_9</th>\n",
       "      <th>station_10</th>\n",
       "      <th>station_11</th>\n",
       "    </tr>\n",
       "  </thead>\n",
       "  <tbody>\n",
       "    <tr>\n",
       "      <td>0</td>\n",
       "      <td>0</td>\n",
       "      <td>0</td>\n",
       "      <td>0</td>\n",
       "      <td>1</td>\n",
       "      <td>0</td>\n",
       "      <td>0</td>\n",
       "      <td>0</td>\n",
       "      <td>0</td>\n",
       "      <td>0</td>\n",
       "      <td>0</td>\n",
       "      <td>0</td>\n",
       "      <td>0</td>\n",
       "    </tr>\n",
       "    <tr>\n",
       "      <td>1</td>\n",
       "      <td>0</td>\n",
       "      <td>0</td>\n",
       "      <td>0</td>\n",
       "      <td>0</td>\n",
       "      <td>0</td>\n",
       "      <td>0</td>\n",
       "      <td>0</td>\n",
       "      <td>0</td>\n",
       "      <td>0</td>\n",
       "      <td>1</td>\n",
       "      <td>0</td>\n",
       "      <td>0</td>\n",
       "    </tr>\n",
       "    <tr>\n",
       "      <td>2</td>\n",
       "      <td>0</td>\n",
       "      <td>0</td>\n",
       "      <td>0</td>\n",
       "      <td>0</td>\n",
       "      <td>0</td>\n",
       "      <td>0</td>\n",
       "      <td>1</td>\n",
       "      <td>0</td>\n",
       "      <td>0</td>\n",
       "      <td>0</td>\n",
       "      <td>0</td>\n",
       "      <td>0</td>\n",
       "    </tr>\n",
       "    <tr>\n",
       "      <td>3</td>\n",
       "      <td>0</td>\n",
       "      <td>0</td>\n",
       "      <td>0</td>\n",
       "      <td>0</td>\n",
       "      <td>0</td>\n",
       "      <td>1</td>\n",
       "      <td>0</td>\n",
       "      <td>0</td>\n",
       "      <td>0</td>\n",
       "      <td>0</td>\n",
       "      <td>0</td>\n",
       "      <td>0</td>\n",
       "    </tr>\n",
       "    <tr>\n",
       "      <td>4</td>\n",
       "      <td>0</td>\n",
       "      <td>0</td>\n",
       "      <td>0</td>\n",
       "      <td>0</td>\n",
       "      <td>0</td>\n",
       "      <td>0</td>\n",
       "      <td>0</td>\n",
       "      <td>0</td>\n",
       "      <td>0</td>\n",
       "      <td>1</td>\n",
       "      <td>0</td>\n",
       "      <td>0</td>\n",
       "    </tr>\n",
       "    <tr>\n",
       "      <td>...</td>\n",
       "      <td>...</td>\n",
       "      <td>...</td>\n",
       "      <td>...</td>\n",
       "      <td>...</td>\n",
       "      <td>...</td>\n",
       "      <td>...</td>\n",
       "      <td>...</td>\n",
       "      <td>...</td>\n",
       "      <td>...</td>\n",
       "      <td>...</td>\n",
       "      <td>...</td>\n",
       "      <td>...</td>\n",
       "    </tr>\n",
       "    <tr>\n",
       "      <td>7679</td>\n",
       "      <td>0</td>\n",
       "      <td>0</td>\n",
       "      <td>0</td>\n",
       "      <td>0</td>\n",
       "      <td>0</td>\n",
       "      <td>0</td>\n",
       "      <td>0</td>\n",
       "      <td>0</td>\n",
       "      <td>0</td>\n",
       "      <td>0</td>\n",
       "      <td>0</td>\n",
       "      <td>1</td>\n",
       "    </tr>\n",
       "    <tr>\n",
       "      <td>7680</td>\n",
       "      <td>0</td>\n",
       "      <td>0</td>\n",
       "      <td>0</td>\n",
       "      <td>1</td>\n",
       "      <td>0</td>\n",
       "      <td>0</td>\n",
       "      <td>0</td>\n",
       "      <td>0</td>\n",
       "      <td>0</td>\n",
       "      <td>0</td>\n",
       "      <td>0</td>\n",
       "      <td>0</td>\n",
       "    </tr>\n",
       "    <tr>\n",
       "      <td>7681</td>\n",
       "      <td>0</td>\n",
       "      <td>0</td>\n",
       "      <td>0</td>\n",
       "      <td>0</td>\n",
       "      <td>1</td>\n",
       "      <td>0</td>\n",
       "      <td>0</td>\n",
       "      <td>0</td>\n",
       "      <td>0</td>\n",
       "      <td>0</td>\n",
       "      <td>0</td>\n",
       "      <td>0</td>\n",
       "    </tr>\n",
       "    <tr>\n",
       "      <td>7682</td>\n",
       "      <td>0</td>\n",
       "      <td>0</td>\n",
       "      <td>0</td>\n",
       "      <td>0</td>\n",
       "      <td>1</td>\n",
       "      <td>0</td>\n",
       "      <td>0</td>\n",
       "      <td>0</td>\n",
       "      <td>0</td>\n",
       "      <td>0</td>\n",
       "      <td>0</td>\n",
       "      <td>0</td>\n",
       "    </tr>\n",
       "    <tr>\n",
       "      <td>7683</td>\n",
       "      <td>0</td>\n",
       "      <td>0</td>\n",
       "      <td>0</td>\n",
       "      <td>0</td>\n",
       "      <td>0</td>\n",
       "      <td>0</td>\n",
       "      <td>0</td>\n",
       "      <td>0</td>\n",
       "      <td>1</td>\n",
       "      <td>0</td>\n",
       "      <td>0</td>\n",
       "      <td>0</td>\n",
       "    </tr>\n",
       "  </tbody>\n",
       "</table>\n",
       "<p>7684 rows × 12 columns</p>\n",
       "</div>"
      ],
      "text/plain": [
       "      station_0  station_1  station_2  station_3  station_4  station_5  \\\n",
       "0             0          0          0          1          0          0   \n",
       "1             0          0          0          0          0          0   \n",
       "2             0          0          0          0          0          0   \n",
       "3             0          0          0          0          0          1   \n",
       "4             0          0          0          0          0          0   \n",
       "...         ...        ...        ...        ...        ...        ...   \n",
       "7679          0          0          0          0          0          0   \n",
       "7680          0          0          0          1          0          0   \n",
       "7681          0          0          0          0          1          0   \n",
       "7682          0          0          0          0          1          0   \n",
       "7683          0          0          0          0          0          0   \n",
       "\n",
       "      station_6  station_7  station_8  station_9  station_10  station_11  \n",
       "0             0          0          0          0           0           0  \n",
       "1             0          0          0          1           0           0  \n",
       "2             1          0          0          0           0           0  \n",
       "3             0          0          0          0           0           0  \n",
       "4             0          0          0          1           0           0  \n",
       "...         ...        ...        ...        ...         ...         ...  \n",
       "7679          0          0          0          0           0           1  \n",
       "7680          0          0          0          0           0           0  \n",
       "7681          0          0          0          0           0           0  \n",
       "7682          0          0          0          0           0           0  \n",
       "7683          0          0          1          0           0           0  \n",
       "\n",
       "[7684 rows x 12 columns]"
      ]
     },
     "execution_count": 50,
     "metadata": {},
     "output_type": "execute_result"
    }
   ],
   "source": [
    "print(X1['station'])\n",
    "\n",
    "pd.get_dummies(X1['station']).add_prefix('station_')"
   ]
  },
  {
   "cell_type": "code",
   "execution_count": 81,
   "metadata": {},
   "outputs": [
    {
     "name": "stdout",
     "output_type": "stream",
     "text": [
      "0       2.013250e+07\n",
      "1       2.013250e+07\n",
      "2       2.013251e+07\n",
      "3       2.013251e+07\n",
      "4       2.013251e+07\n",
      "            ...     \n",
      "7679    2.017176e+07\n",
      "7680    2.017176e+07\n",
      "7681    2.017176e+07\n",
      "7682    2.017176e+07\n",
      "7683    2.017176e+07\n",
      "Length: 7684, dtype: float64\n",
      "20132503.559139784\n"
     ]
    }
   ],
   "source": [
    "\n",
    "\n",
    "time = ((X1['year']+X1['month']/12)*100+X1['day']/31)*100+X1['hour']/24\n",
    "  \n",
    "\n",
    "print(time)\n",
    "print(time[0])"
   ]
  },
  {
   "cell_type": "code",
   "execution_count": 69,
   "metadata": {},
   "outputs": [
    {
     "name": "stdout",
     "output_type": "stream",
     "text": [
      "   time\n",
      "0     1\n",
      "1     2\n",
      "2     3\n",
      "   time\n",
      "0     1\n",
      "1     2\n",
      "2     3\n"
     ]
    },
    {
     "data": {
      "text/html": [
       "<div>\n",
       "<style scoped>\n",
       "    .dataframe tbody tr th:only-of-type {\n",
       "        vertical-align: middle;\n",
       "    }\n",
       "\n",
       "    .dataframe tbody tr th {\n",
       "        vertical-align: top;\n",
       "    }\n",
       "\n",
       "    .dataframe thead th {\n",
       "        text-align: right;\n",
       "    }\n",
       "</style>\n",
       "<table border=\"1\" class=\"dataframe\">\n",
       "  <thead>\n",
       "    <tr style=\"text-align: right;\">\n",
       "      <th></th>\n",
       "      <th>time</th>\n",
       "      <th>time</th>\n",
       "    </tr>\n",
       "  </thead>\n",
       "  <tbody>\n",
       "    <tr>\n",
       "      <td>0</td>\n",
       "      <td>1</td>\n",
       "      <td>1</td>\n",
       "    </tr>\n",
       "    <tr>\n",
       "      <td>1</td>\n",
       "      <td>2</td>\n",
       "      <td>2</td>\n",
       "    </tr>\n",
       "    <tr>\n",
       "      <td>2</td>\n",
       "      <td>3</td>\n",
       "      <td>3</td>\n",
       "    </tr>\n",
       "  </tbody>\n",
       "</table>\n",
       "</div>"
      ],
      "text/plain": [
       "   time  time\n",
       "0     1     1\n",
       "1     2     2\n",
       "2     3     3"
      ]
     },
     "execution_count": 69,
     "metadata": {},
     "output_type": "execute_result"
    }
   ],
   "source": [
    "df = pd.DataFrame()\n",
    "df['time'] = [1,2,3]\n",
    "print(df)\n",
    "df2 = pd.DataFrame()\n",
    "df2['time'] = [1,2,3]\n",
    "print(df2)\n",
    "\n",
    "pd.concat([df, df2], axis=1)\n"
   ]
  },
  {
   "cell_type": "code",
   "execution_count": 108,
   "metadata": {},
   "outputs": [
    {
     "name": "stdout",
     "output_type": "stream",
     "text": [
      "[[ 0.40824829 -0.40824829  0.81649658]\n",
      " [ 1.          0.          0.        ]\n",
      " [ 0.          0.70710678 -0.70710678]]\n",
      "[[ 0.25 -0.25  0.5 ]\n",
      " [ 1.    0.    0.  ]\n",
      " [ 0.    0.5  -0.5 ]]\n",
      "      year  month  day  hour   SO2   NO2      CO    O3  TEMP    PRES  ...  \\\n",
      "0     2013      3    1     8  12.0  41.0   500.0  54.0  -0.3  1030.4  ...   \n",
      "1     2013      3    1     9  11.0  22.0   500.0  65.0   0.4  1030.5  ...   \n",
      "2     2013      3    2     7  11.0  18.0   500.0  45.0  -4.0  1026.6  ...   \n",
      "3     2013      3    2    11  27.0  45.0  1399.0  31.0   2.5  1026.4  ...   \n",
      "4     2013      3    2    14  24.0  35.0   800.0  53.0   3.9  1026.8  ...   \n",
      "...    ...    ...  ...   ...   ...   ...     ...   ...   ...     ...  ...   \n",
      "7679  2017      2   28     9   6.0  45.0   700.0  39.0  10.7  1016.7  ...   \n",
      "7680  2017      2   28    17   3.0  12.0   300.0  93.0  14.2  1012.5  ...   \n",
      "7681  2017      2   28    20   4.0  48.0   500.0  43.0  11.6  1013.6  ...   \n",
      "7682  2017      2   28    21   5.0  39.0   500.0  50.0  10.8  1014.2  ...   \n",
      "7683  2017      2   28    23  13.0  34.0   500.0  60.0   7.4  1014.9  ...   \n",
      "\n",
      "      station_3  station_4  station_5  station_6  station_7  station_8  \\\n",
      "0             1          0          0          0          0          0   \n",
      "1             0          0          0          0          0          0   \n",
      "2             0          0          0          1          0          0   \n",
      "3             0          0          1          0          0          0   \n",
      "4             0          0          0          0          0          0   \n",
      "...         ...        ...        ...        ...        ...        ...   \n",
      "7679          0          0          0          0          0          0   \n",
      "7680          1          0          0          0          0          0   \n",
      "7681          0          1          0          0          0          0   \n",
      "7682          0          1          0          0          0          0   \n",
      "7683          0          0          0          0          0          1   \n",
      "\n",
      "      station_9  station_10  station_11          time  \n",
      "0             0           0           0  2.013250e+07  \n",
      "1             1           0           0  2.013250e+07  \n",
      "2             0           0           0  2.013251e+07  \n",
      "3             0           0           0  2.013251e+07  \n",
      "4             1           0           0  2.013251e+07  \n",
      "...         ...         ...         ...           ...  \n",
      "7679          0           0           1  2.017176e+07  \n",
      "7680          0           0           0  2.017176e+07  \n",
      "7681          0           0           0  2.017176e+07  \n",
      "7682          0           0           0  2.017176e+07  \n",
      "7683          0           0           0  2.017176e+07  \n",
      "\n",
      "[7684 rows x 34 columns]\n"
     ]
    }
   ],
   "source": [
    "X = [[ 1., -1.,  2.],\n",
    "     [ 2.,  0.,  0.],\n",
    "     [ 0.,  1., -1.]]\n",
    "X_normalized = preprocessing.normalize(X, norm='l2')\n",
    "print(X_normalized)\n",
    "\n",
    "X_normalized2 = preprocessing.normalize(X, norm='l1')\n",
    "print(X_normalized2)\n",
    "\n",
    "print(X1_handled.)"
   ]
  },
  {
   "cell_type": "code",
   "execution_count": 115,
   "metadata": {},
   "outputs": [
    {
     "data": {
      "text/plain": [
       "(34,)"
      ]
     },
     "execution_count": 115,
     "metadata": {},
     "output_type": "execute_result"
    }
   ],
   "source": [
    "X1_handled.values.shape\n",
    "\n",
    "X_scaled = preprocessing.scale(X1_handled.values)\n",
    "X_scaled.mean(axis=0)"
   ]
  },
  {
   "cell_type": "code",
   "execution_count": null,
   "metadata": {},
   "outputs": [],
   "source": []
  }
 ],
 "metadata": {
  "kernelspec": {
   "display_name": "Python 3",
   "language": "python",
   "name": "python3"
  },
  "language_info": {
   "codemirror_mode": {
    "name": "ipython",
    "version": 3
   },
   "file_extension": ".py",
   "mimetype": "text/x-python",
   "name": "python",
   "nbconvert_exporter": "python",
   "pygments_lexer": "ipython3",
   "version": "3.7.3"
  }
 },
 "nbformat": 4,
 "nbformat_minor": 2
}
