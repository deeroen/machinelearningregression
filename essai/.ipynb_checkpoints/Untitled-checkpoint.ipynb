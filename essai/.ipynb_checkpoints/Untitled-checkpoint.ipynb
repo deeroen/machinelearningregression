{
 "cells": [
  {
   "cell_type": "markdown",
   "metadata": {},
   "source": [
    "# Load data"
   ]
  },
  {
   "cell_type": "code",
   "execution_count": 28,
   "metadata": {},
   "outputs": [],
   "source": [
    "import pandas as pd\n",
    "\n",
    "X1 = pd.read_csv(\"X1.csv\") # [7684 rows x 15 columns]\n",
    "Y1 = pd.read_csv(\"Y1.csv\",sep='\\t',names=[\"Label\"]) # [7684 rows x 1 columns]\n",
    "X2 = pd.read_csv(\"X2.csv\") # [3787 rows x 15 columns]\n",
    "\n",
    "# X1 = X1.values # converting pandas dataframe to a numpy array"
   ]
  },
  {
   "cell_type": "markdown",
   "metadata": {},
   "source": [
    "# Visualize data"
   ]
  },
  {
   "cell_type": "code",
   "execution_count": 29,
   "metadata": {},
   "outputs": [],
   "source": [
    "import matplotlib.pyplot as plt\n",
    "\n",
    "def visualize(X, Y):\n",
    "    n_sample, n_feature = X.shape\n",
    "    feature_names = X.keys()\n",
    "    \n",
    "    for k in feature_names :\n",
    "        plt.scatter(X[k], Y)\n",
    "        plt.title(k)\n",
    "        plt.show()\n",
    "    #plt.savefig('essai.pdf')\n",
    "\n",
    "# Decomment to visualize\n",
    "# visualize(X1, Y1)"
   ]
  },
  {
   "cell_type": "markdown",
   "metadata": {},
   "source": [
    "### Remarques : \n",
    "données cycliques : month, day, hour, wd (wind direction) \n",
    "\n",
    "NO2, CO : +/- linéaire\n",
    "\n",
    "station : pas de lien dans les numéros de station ?"
   ]
  },
  {
   "cell_type": "markdown",
   "metadata": {},
   "source": [
    "# Data treatments"
   ]
  },
  {
   "cell_type": "markdown",
   "metadata": {},
   "source": [
    "### Handle cyclic values"
   ]
  },
  {
   "cell_type": "code",
   "execution_count": 30,
   "metadata": {},
   "outputs": [
    {
     "name": "stdout",
     "output_type": "stream",
     "text": [
      "(7684, 33)\n"
     ]
    }
   ],
   "source": [
    "import numpy as np\n",
    "def handlecyclic(data_frame):\n",
    "    df = data_frame.copy()\n",
    "    # handle hour values\n",
    "    df['hr_sin'] = np.sin(df['hour']*(2.*np.pi/24))\n",
    "    df['hr_cos'] = np.cos(df['hour']*(2.*np.pi/24))\n",
    "    # handle month values\n",
    "    df['mnth_sin'] = np.sin((df['month']-1)*(2.*np.pi/12))\n",
    "    df['mnth_cos'] = np.cos((df['month']-1)*(2.*np.pi/12))\n",
    "    # handle day values\n",
    "    df['day_sin'] = np.sin((df['day'] - 1) * (2. * np.pi / 12))\n",
    "    df['day_cos'] = np.cos((df['day'] - 1) * (2. * np.pi / 12))\n",
    "    # handle wind direction\n",
    "    df = df.replace({'N': 0,'NNE':1,'NE':2,'ENE':3,'E':4,'ESE':5,'SE':6,'SSE':7,'S':8,'SSW':9,'SW':10,'WSW':11,'W':12,'WNW':13,'NW':14,'NNW':15})\n",
    "    df['wd_sin'] = np.sin((df['wd']) * (2. * np.pi / 16))\n",
    "    df['wd_cos'] = np.cos((df['wd']) * (2. * np.pi / 16))\n",
    "    df = df.drop(['wd'], axis=1)\n",
    "    return df\n",
    "\n",
    "def handle_station(df):\n",
    "    return pd.concat([df.drop(['station'], axis=1), pd.get_dummies(df['station']).add_prefix('station_')], axis=1)\n",
    "\n",
    "X1_handled = handlecyclic(X1)\n",
    "X1_handled = handle_station(X1_handled)\n",
    "print(X1_handled.shape)"
   ]
  },
  {
   "cell_type": "markdown",
   "metadata": {},
   "source": [
    "### Add linear time"
   ]
  },
  {
   "cell_type": "code",
   "execution_count": 31,
   "metadata": {},
   "outputs": [
    {
     "name": "stdout",
     "output_type": "stream",
     "text": [
      "(7684, 34)\n"
     ]
    }
   ],
   "source": [
    "def add_linear_time(data_frame):\n",
    "    df2 = pd.DataFrame()\n",
    "    df2['time'] = ((data_frame['year']+data_frame['month']/12)*100+data_frame['day']/31)*100+data_frame['hour']/24\n",
    "    #df2['time'] = data_frame['year']*1000000+(data_frame['month']/12)*1000+(data_frame['day']/31)*10+(data_frame['hour']/24)\n",
    "    return pd.concat([data_frame, df2], axis=1)\n",
    "\n",
    "X1_handled = add_linear_time(X1_handled)\n",
    "\n",
    "print(X1_handled.shape)\n",
    "\n",
    "# Decomment to visualize\n",
    "# visualize(X1_handled, Y1)"
   ]
  },
  {
   "cell_type": "markdown",
   "metadata": {},
   "source": []
  },
  {
   "cell_type": "code",
   "execution_count": 228,
   "metadata": {},
   "outputs": [],
   "source": []
  },
  {
   "cell_type": "markdown",
   "metadata": {},
   "source": [
    "# Normalisation or standardisation"
   ]
  },
  {
   "cell_type": "markdown",
   "metadata": {},
   "source": [
    "### Normalization "
   ]
  },
  {
   "cell_type": "code",
   "execution_count": 32,
   "metadata": {},
   "outputs": [
    {
     "name": "stdout",
     "output_type": "stream",
     "text": [
      "0.4284552316501822 0.49665183853106804\n",
      "0.0 1.0\n",
      "0.0 0.9999999999999999\n"
     ]
    }
   ],
   "source": [
    "from sklearn.preprocessing import MinMaxScaler\n",
    "# use of https://mrmint.fr/data-preprocessing-feature-scaling-python\n",
    "'''Min-Max Scaling peut- être appliqué quand les données varient dans des échelles différentes. \n",
    "A l’issue de cette transformation, les features seront comprises dans un intervalle fixe [0,1]'''\n",
    "\n",
    "minmax_scale = MinMaxScaler().fit(X1_handled)\n",
    "X1_norm = minmax_scale.transform(X1_handled)\n",
    "\n",
    "print(X1_norm[:,0].mean(), X1_norm[:,1].mean())\n",
    "print(X1_norm[:,0].min(), X1_norm[:,0].max())\n",
    "print(X1_norm[:,12].min(), X1_norm[:,12].max())"
   ]
  },
  {
   "cell_type": "markdown",
   "metadata": {},
   "source": [
    "### Standardisation "
   ]
  },
  {
   "cell_type": "code",
   "execution_count": 33,
   "metadata": {
    "scrolled": true
   },
   "outputs": [
    {
     "name": "stdout",
     "output_type": "stream",
     "text": [
      "7.024793148129008e-14 -1.3315741013723897e-16\n",
      "-1.475855287681159 1.9687409703619931\n",
      "-1.4026926551353966 5.856812062888533\n",
      "1.0 1.0\n"
     ]
    }
   ],
   "source": [
    "# use of https://mrmint.fr/data-preprocessing-feature-scaling-python\n",
    "\n",
    "from sklearn.preprocessing import StandardScaler \n",
    "'''La standardisation (aussi appelée Z-Score normalisation peut- être appliquée quand les input features répondent\n",
    "à des distributions normales (Distributions Gaussiennes) avec des moyennes et des écart-types différents. \n",
    "Par conséquent, cette transformation aura pour impact d’avoir toutes nos features répondant à la même \n",
    "loi normale X \\sim \\mathcal{N} (0, \\, 1).\n",
    "La standardisation peut également être appliquée quand les features ont des unités différentes.'''\n",
    "\n",
    "# Z-score standardisation\n",
    "std_scaler = StandardScaler().fit(X1_handled)\n",
    "X1_stand = std_scaler.transform(X1_handled)\n",
    "\n",
    "print(X1_stand[:,0].mean(), X1_stand[:,1].mean())\n",
    "print(X1_stand[:,0].min(), X1_stand[:,0].max())\n",
    "print(X1_stand[:,12].min(), X1_stand[:,12].max())\n",
    "print(X1_stand[:,0].std(), X1_stand[:,1].std())"
   ]
  },
  {
   "cell_type": "markdown",
   "metadata": {},
   "source": [
    "# Data splitting"
   ]
  },
  {
   "cell_type": "code",
   "execution_count": 34,
   "metadata": {},
   "outputs": [],
   "source": [
    "# 70% training\n",
    "# 30% test\n",
    "\n",
    "n = len(X1_handled['CO'])\n",
    "m = 70*n//100 # 5378\n",
    "X1_train = X1_stand[0:m,:]\n",
    "X1_valid = X1_stand[m:n,:]\n",
    "\n",
    "Y1_train = Y1.values[0:m,:]\n",
    "Y1_valid = Y1.values[m:n,:]"
   ]
  },
  {
   "cell_type": "markdown",
   "metadata": {},
   "source": [
    "# Feature selection"
   ]
  },
  {
   "cell_type": "markdown",
   "metadata": {},
   "source": [
    "### Show correlation"
   ]
  },
  {
   "cell_type": "code",
   "execution_count": 35,
   "metadata": {},
   "outputs": [
    {
     "name": "stdout",
     "output_type": "stream",
     "text": [
      "Correlation : \n",
      "correlation =  -0.07505130444011064 \t \t 20 wd_cos\n",
      "correlation =  0.10249174746825246 \t \t 10 DEWP\n",
      "correlation =  0.131424391445168 \t \t 19 wd_sin\n",
      "correlation =  -0.16143772698991268 \t \t 8 TEMP\n",
      "correlation =  -0.1725773769709249 \t \t 7 O3\n",
      "correlation =  0.18854497610399953 \t \t 16 mnth_cos\n",
      "correlation =  -0.26453854989193426 \t \t 12 WSPM\n",
      "correlation =  0.4803320243340485 \t \t 4 SO2\n",
      "correlation =  0.6461805946323074 \t \t 5 NO2\n",
      "correlation =  0.7626706385557319 \t \t 6 CO\n"
     ]
    }
   ],
   "source": [
    "# print des n features avec les plus grandes correlations\n",
    "def print_correlation(X, Y, n):\n",
    "    print(\"Correlation : \")\n",
    "    corrcoef = np.corrcoef(X, Y, rowvar=False)[-1, :33]\n",
    "    #print(np.around(corrcoef, decimals=3))\n",
    "    most_corr = np.argsort(np.abs(corrcoef))\n",
    "    feature_names = X1_handled.keys()\n",
    "    for ind in most_corr[len(most_corr)-n: len(most_corr)]: # print des 10 meilleurs\n",
    "        print(\"correlation = \", corrcoef[ind], '\\t \\t', ind, feature_names[ind])\n",
    "\n",
    "print_correlation(X1_train, Y1_train, 10)"
   ]
  },
  {
   "cell_type": "markdown",
   "metadata": {},
   "source": [
    "### Show mutual information"
   ]
  },
  {
   "cell_type": "code",
   "execution_count": 36,
   "metadata": {},
   "outputs": [
    {
     "name": "stdout",
     "output_type": "stream",
     "text": [
      "Mutual Information : \n",
      "mutual_information =  0.057452087825227593 \t \t 8 TEMP\n",
      "mutual_information =  0.05895333374860545 \t \t 9 PRES\n",
      "mutual_information =  0.06348388644056246 \t \t 1 month\n",
      "mutual_information =  0.08430397058040295 \t \t 12 WSPM\n",
      "mutual_information =  0.12931434168554112 \t \t 7 O3\n",
      "mutual_information =  0.13378442775033417 \t \t 10 DEWP\n",
      "mutual_information =  0.1479067283280351 \t \t 33 time\n",
      "mutual_information =  0.18959352293382903 \t \t 4 SO2\n",
      "mutual_information =  0.3281394758981291 \t \t 5 NO2\n",
      "mutual_information =  0.6238541911795137 \t \t 6 CO\n",
      "[23 32 11 21 31 24 29 22 27 28 17 26 30 14 13 19 15 25  0 18  3 20 16  2\n",
      "  8  9  1 12  7 10 33  4  5  6]\n"
     ]
    }
   ],
   "source": [
    "import sklearn.feature_selection as fs\n",
    "\n",
    "# print des n features avec les plus grandes mutual information\n",
    "def print_mutual_information(X,Y, n):\n",
    "    print(\"Mutual Information : \")\n",
    "    mi = fs.mutual_info_regression(X, Y)\n",
    "    #print(np.around(fs.mutual_info_regression(X, Y[:, 0]), 3))\n",
    "    most_mi =  np.argsort(np.abs(mi))\n",
    "    feature_names = X1_handled.keys()\n",
    "    for ind in most_mi[len(most_mi)-n: len(most_mi)]:\n",
    "        print( \"mutual_information = \", mi[ind], '\\t \\t', ind, feature_names[ind])\n",
    "    return most_mi\n",
    "\n",
    "most_mi = print_mutual_information(X1_train, Y1_train.ravel(), 10)\n",
    "print(most_mi)\n"
   ]
  },
  {
   "cell_type": "markdown",
   "metadata": {},
   "source": [
    "### Select features"
   ]
  },
  {
   "cell_type": "code",
   "execution_count": 235,
   "metadata": {},
   "outputs": [],
   "source": [
    "from sklearn.feature_selection import SelectKBest\n",
    "from sklearn.tree import DecisionTreeRegressor\n",
    "from sklearn import feature_selection\n",
    "\n",
    "def features_selection(scaled_df, target, nb_of_features):\n",
    "    # Select with mutual information\n",
    "    selector = SelectKBest(feature_selection.mutual_info_regression, k=nb_of_features)\n",
    "    selector.fit_transform(scaled_df, target)\n",
    "    # Get columns to keep\n",
    "    cols1 = scaled_df.columns[selector.get_support(indices=True)]\n",
    "\n",
    "    # Select with F-value between label/feature for regression tasks\n",
    "    selector = SelectKBest(feature_selection.f_regression, k=nb_of_features)\n",
    "    selector.fit_transform(scaled_df, target)\n",
    "    # Get columns to keep\n",
    "    cols2 = scaled_df.columns[selector.get_support(indices=True)]\n",
    "\n",
    "    # Select variables with tree\n",
    "    clf = DecisionTreeRegressor(max_depth=5)\n",
    "    clf = clf.fit(scaled_df, target)\n",
    "    # Get the most important feature\n",
    "    importances = clf.feature_importances_\n",
    "\n",
    "    cols3 = list(scaled_df.columns[np.flip(np.argsort(importances)[-nb_of_features:])])\n",
    "\n",
    "    features = list(set(list(cols1)) | set(list(cols2)) | set(list(cols3)))\n",
    "    # Create new dataframe with only desired columns, or overwrite existing\n",
    "    a_scaled = scaled_df[features]\n",
    "\n",
    "    return a_scaled\n",
    "\n",
    "#df = features_selection(X1_stand, Y1.values.ravel(), 10)\n",
    "#print(df)\n",
    "\n",
    "#print(X1_stand)"
   ]
  },
  {
   "cell_type": "code",
   "execution_count": 37,
   "metadata": {},
   "outputs": [],
   "source": [
    "n = 7\n",
    "index_selected = most_mi[len(most_mi)-n: len(most_mi)]\n",
    "\n",
    "X1_train_selected = X1_train[:,index_selected]\n",
    "X1_valid_selected = X1_valid[:,index_selected]\n"
   ]
  },
  {
   "cell_type": "markdown",
   "metadata": {},
   "source": [
    "### PCA"
   ]
  },
  {
   "cell_type": "code",
   "execution_count": 58,
   "metadata": {},
   "outputs": [
    {
     "name": "stdout",
     "output_type": "stream",
     "text": [
      "[1.33157578e-01 7.48504597e-02 6.54661167e-02 5.72479644e-02\n",
      " 3.82961969e-02 3.50133096e-02 3.48792127e-02 3.40335937e-02\n",
      " 3.39696414e-02 3.37237570e-02 3.34553861e-02 3.34015199e-02\n",
      " 3.30611097e-02 3.28420986e-02 3.24483928e-02 3.23370501e-02\n",
      " 3.15035908e-02 3.01156590e-02 2.96332407e-02 2.88612930e-02\n",
      " 2.76776086e-02 2.53079424e-02 2.25182935e-02 1.63244883e-02\n",
      " 1.35490592e-02 9.76628752e-03 6.95719033e-03 6.01142015e-03\n",
      " 5.33999696e-03 4.36830955e-03 2.22476744e-03 1.65746497e-03\n",
      " 5.09239697e-28 2.62607013e-32]\n",
      "sum =  1.0\n",
      "[1.53543020e+02 1.15118301e+02 1.07660260e+02 1.00676280e+02\n",
      " 8.23426724e+01 7.87342539e+01 7.85833378e+01 7.76248975e+01\n",
      " 7.75519309e+01 7.72707468e+01 7.69626757e+01 7.69006922e+01\n",
      " 7.65078236e+01 7.62539920e+01 7.57955536e+01 7.56654003e+01\n",
      " 7.46839301e+01 7.30202507e+01 7.24330393e+01 7.14833713e+01\n",
      " 7.00021559e+01 6.69384348e+01 6.31414967e+01 5.37609485e+01\n",
      " 4.89780742e+01 4.15826236e+01 3.50965217e+01 3.26238849e+01\n",
      " 3.07480543e+01 2.78101824e+01 1.98467521e+01 1.71304714e+01\n",
      " 9.49529058e-12 6.81867976e-14]\n",
      "[0.13315751 0.07484972 0.06545953 0.05717478 0.03681187 0.03473623\n",
      " 0.034435  ]\n",
      "[153.54298121 115.11773403 107.65484309 100.61191054  80.73113632\n",
      "  78.42209666  78.0813252 ]\n"
     ]
    }
   ],
   "source": [
    "from sklearn.decomposition import PCA\n",
    "\n",
    "pca = PCA()\n",
    "pca.fit_transform(X1_train)\n",
    "\n",
    "print(pca.explained_variance_ratio_)\n",
    "print(\"sum = \", np.sum(pca.explained_variance_ratio_))\n",
    "\n",
    "print(pca.singular_values_)\n",
    "\n",
    "pca = PCA(n_components=7)\n",
    "pca.fit_transform(X1_train)\n",
    "\n",
    "print(pca.explained_variance_ratio_)\n",
    "\n",
    "\n",
    "\n",
    "print(pca.singular_values_)"
   ]
  },
  {
   "cell_type": "markdown",
   "metadata": {},
   "source": [
    "# Training"
   ]
  },
  {
   "cell_type": "code",
   "execution_count": 38,
   "metadata": {},
   "outputs": [],
   "source": [
    "from competitive_learning import *\n",
    "from linear_model import *\n",
    "from rbfn import *\n",
    "\n",
    "def score_rbfn(n_center, smooth_f, X, T, X_test, T_test):\n",
    "    rbfn = MyRBFN(n_center, smooth_f)\n",
    "    rbfn.fit(X, T)\n",
    "    return rbfn.score(X_test, T_test)"
   ]
  },
  {
   "cell_type": "code",
   "execution_count": 39,
   "metadata": {},
   "outputs": [
    {
     "name": "stdout",
     "output_type": "stream",
     "text": [
      "debut\n",
      "(5378, 7)\n",
      "(5378, 1)\n",
      "(2306, 7)\n",
      "(2306, 1)\n",
      "number of centers :  2\n",
      "smooth_f :  0.5\n",
      "smooth_f :  1\n",
      "smooth_f :  2\n",
      "smooth_f :  4\n",
      "smooth_f :  8\n",
      "smooth_f :  16\n",
      "number of centers :  12\n",
      "smooth_f :  0.5\n",
      "smooth_f :  1\n",
      "smooth_f :  2\n",
      "smooth_f :  4\n",
      "smooth_f :  8\n",
      "smooth_f :  16\n",
      "number of centers :  22\n",
      "smooth_f :  0.5\n",
      "smooth_f :  1\n",
      "smooth_f :  2\n",
      "smooth_f :  4\n",
      "smooth_f :  8\n",
      "smooth_f :  16\n",
      "number of centers :  32\n",
      "smooth_f :  0.5\n",
      "smooth_f :  1\n",
      "smooth_f :  2\n",
      "smooth_f :  4\n",
      "smooth_f :  8\n",
      "smooth_f :  16\n",
      "number of centers :  42\n",
      "smooth_f :  0.5\n",
      "smooth_f :  1\n",
      "smooth_f :  2\n",
      "smooth_f :  4\n",
      "smooth_f :  8\n",
      "smooth_f :  16\n",
      "number of centers :  52\n",
      "smooth_f :  0.5\n",
      "smooth_f :  1\n",
      "smooth_f :  2\n",
      "smooth_f :  4\n",
      "smooth_f :  8\n",
      "smooth_f :  16\n",
      "number of centers :  62\n",
      "smooth_f :  0.5\n",
      "smooth_f :  1\n",
      "smooth_f :  2\n",
      "smooth_f :  4\n",
      "smooth_f :  8\n",
      "smooth_f :  16\n",
      "number of centers :  72\n",
      "smooth_f :  0.5\n",
      "smooth_f :  1\n",
      "smooth_f :  2\n",
      "smooth_f :  4\n",
      "smooth_f :  8\n",
      "smooth_f :  16\n",
      "number of centers :  82\n",
      "smooth_f :  0.5\n",
      "smooth_f :  1\n",
      "smooth_f :  2\n",
      "smooth_f :  4\n",
      "smooth_f :  8\n",
      "smooth_f :  16\n",
      "number of centers :  92\n",
      "smooth_f :  0.5\n",
      "smooth_f :  1\n",
      "smooth_f :  2\n",
      "smooth_f :  4\n",
      "smooth_f :  8\n",
      "smooth_f :  16\n"
     ]
    }
   ],
   "source": [
    "print('debut')\n",
    "# influence of number of centers ?\n",
    "n_center = [x for x in range(2,100,10)]\n",
    "smooth_f = [0.5, 1, 2, 4, 8, 16]\n",
    "\n",
    "rmses = {}\n",
    "best = {'rmse':1000}\n",
    "\n",
    "print(X1_train_selected.shape)\n",
    "print(Y1_train.shape)\n",
    "print(X1_valid_selected.shape)\n",
    "print(Y1_valid.shape)\n",
    "\n",
    "\n",
    "for nc in n_center:\n",
    "    print(\"number of centers : \",nc)\n",
    "    rmses[nc] = list()\n",
    "\n",
    "    for sf in smooth_f:\n",
    "        print(\"smooth_f : \",sf)\n",
    "            \n",
    "        rmse = score_rbfn(nc, sf, X1_train_selected, Y1_train, X1_valid_selected, Y1_valid)\n",
    "        rmses[nc].append(rmse)\n",
    "\n",
    "        if rmse < best['rmse']:\n",
    "            best['rmse'] = rmse\n",
    "            best['n_center'] = nc\n",
    "            best['smooth_f']= sf\n",
    "            "
   ]
  },
  {
   "cell_type": "code",
   "execution_count": 45,
   "metadata": {},
   "outputs": [
    {
     "name": "stdout",
     "output_type": "stream",
     "text": [
      "{2: [80.84950785971184, 71.65982100814713, 59.546797904564386, 55.728439332484285, 55.1794252518969, 55.213180452163364], 12: [77.48406141305527, 56.78128319519282, 50.107368279817535, 47.1480157589995, 45.740314020154436, 45.326490683320536], 22: [76.87758234087504, 56.680184357743315, 52.35370698863424, 52.76664315800769, 45.2702801731227, 44.93103964242557], 32: [77.15515452023146, 56.272476111687055, 48.121737480970104, 43.88472061331268, 45.41921814963297, 43.59563465819979], 42: [77.45077490318852, 56.321016100519394, 50.77350388386322, 44.85161292819169, 44.13219855094618, 46.00648708297191], 52: [78.14601701731075, 56.537607711142535, 47.13293328114131, 50.325850389636116, 46.18979162468551, 45.95355746826861], 62: [77.54145782465281, 56.39445319283669, 49.159041991408024, 48.75097862866217, 48.85973415699332, 47.625840177791346], 72: [78.92173649215337, 57.425022016595264, 45.362996826659796, 46.5517791120516, 47.18882514876482, 69.12834400811207], 82: [79.11283561263276, 56.84730336391568, 46.55740151042622, 49.73879708210661, 56.10505836200337, 63.092182967810025], 92: [79.26020185065084, 57.02867422064296, 47.43870195023177, 50.77657507070504, 56.1224340462169, 102.0507783737889]}\n",
      "{'rmse': 43.59563465819979, 'n_center': 32, 'smooth_f': 16}\n"
     ]
    }
   ],
   "source": [
    "print(rmses)\n",
    "print(best)"
   ]
  },
  {
   "cell_type": "code",
   "execution_count": 44,
   "metadata": {},
   "outputs": [
    {
     "name": "stdout",
     "output_type": "stream",
     "text": [
      "[2, 12, 22, 32, 42, 52, 62, 72, 82, 92]\n",
      "[0.5, 1, 2, 4, 8, 16]\n"
     ]
    },
    {
     "data": {
      "image/png": "[encoded data removed]",
      "text/plain": [
       "<Figure size 432x288 with 1 Axes>"
      ]
     },
     "metadata": {
      "needs_background": "light"
     },
     "output_type": "display_data"
    }
   ],
   "source": [
    "import matplotlib.pyplot as plt\n",
    "\n",
    "print(n_center)\n",
    "print(smooth_f)\n",
    "\n",
    "fig, ax = plt.subplots()\n",
    "for i in range(len(n_center)):\n",
    "    ax.plot(smooth_f, rmses[n_center[i]] , label=n_center[i])\n",
    "ax.legend()\n",
    "#plt.show()\n",
    "plt.savefig('essai.png')\n",
    "\n",
    "#ax.plot(activity, dog, label=\"dog\")\n",
    "#ax.plot(activity, cat, label=\"cat\")\n",
    "#ax.legend()\n",
    "\n",
    "#plt.show()\n"
   ]
  },
  {
   "cell_type": "code",
   "execution_count": 47,
   "metadata": {},
   "outputs": [
    {
     "name": "stdout",
     "output_type": "stream",
     "text": [
      "debut\n",
      "(5378, 7)\n",
      "(5378, 1)\n",
      "(2306, 7)\n",
      "(2306, 1)\n",
      "number of centers :  20\n",
      "smooth_f :  8\n",
      "smooth_f :  16\n",
      "smooth_f :  32\n",
      "number of centers :  25\n",
      "smooth_f :  8\n",
      "smooth_f :  16\n",
      "smooth_f :  32\n",
      "number of centers :  30\n",
      "smooth_f :  8\n",
      "smooth_f :  16\n",
      "smooth_f :  32\n",
      "number of centers :  35\n",
      "smooth_f :  8\n",
      "smooth_f :  16\n",
      "smooth_f :  32\n"
     ]
    }
   ],
   "source": [
    "print('debut')\n",
    "# influence of number of centers ?\n",
    "n_center2 = [x for x in range(20,40,5)]\n",
    "smooth_f2 = [8, 16, 32]\n",
    "\n",
    "rmses2 = {}\n",
    "best2 = {'rmse':1000}\n",
    "\n",
    "print(X1_train_selected.shape)\n",
    "print(Y1_train.shape)\n",
    "print(X1_valid_selected.shape)\n",
    "print(Y1_valid.shape)\n",
    "\n",
    "\n",
    "for nc in n_center2:\n",
    "    print(\"number of centers : \",nc)\n",
    "    rmses2[nc] = list()\n",
    "\n",
    "    for sf in smooth_f2:\n",
    "        print(\"smooth_f : \",sf)\n",
    "            \n",
    "        rmse = score_rbfn(nc, sf, X1_train_selected, Y1_train, X1_valid_selected, Y1_valid)\n",
    "        rmses2[nc].append(rmse)\n",
    "\n",
    "        if rmse < best2['rmse']:\n",
    "            best2['rmse'] = rmse\n",
    "            best2['n_center'] = nc\n",
    "            best2['smooth_f']= sf"
   ]
  },
  {
   "cell_type": "code",
   "execution_count": 48,
   "metadata": {},
   "outputs": [
    {
     "name": "stdout",
     "output_type": "stream",
     "text": [
      "{2: [80.84950785971184, 71.65982100814713, 59.546797904564386, 55.728439332484285, 55.1794252518969, 55.213180452163364], 12: [77.48406141305527, 56.78128319519282, 50.107368279817535, 47.1480157589995, 45.740314020154436, 45.326490683320536], 22: [76.87758234087504, 56.680184357743315, 52.35370698863424, 52.76664315800769, 45.2702801731227, 44.93103964242557], 32: [77.15515452023146, 56.272476111687055, 48.121737480970104, 43.88472061331268, 45.41921814963297, 43.59563465819979], 42: [77.45077490318852, 56.321016100519394, 50.77350388386322, 44.85161292819169, 44.13219855094618, 46.00648708297191], 52: [78.14601701731075, 56.537607711142535, 47.13293328114131, 50.325850389636116, 46.18979162468551, 45.95355746826861], 62: [77.54145782465281, 56.39445319283669, 49.159041991408024, 48.75097862866217, 48.85973415699332, 47.625840177791346], 72: [78.92173649215337, 57.425022016595264, 45.362996826659796, 46.5517791120516, 47.18882514876482, 69.12834400811207], 82: [79.11283561263276, 56.84730336391568, 46.55740151042622, 49.73879708210661, 56.10505836200337, 63.092182967810025], 92: [79.26020185065084, 57.02867422064296, 47.43870195023177, 50.77657507070504, 56.1224340462169, 102.0507783737889]}\n",
      "{'rmse': 43.59563465819979, 'n_center': 32, 'smooth_f': 16}\n"
     ]
    }
   ],
   "source": [
    "print(rmses)\n",
    "print(best)"
   ]
  },
  {
   "cell_type": "code",
   "execution_count": null,
   "metadata": {},
   "outputs": [],
   "source": []
  },
  {
   "cell_type": "code",
   "execution_count": 11,
   "metadata": {},
   "outputs": [
    {
     "name": "stdout",
     "output_type": "stream",
     "text": [
      "year\n",
      "month\n",
      "day\n",
      "hour\n",
      "SO2\n",
      "NO2\n",
      "CO\n",
      "O3\n",
      "TEMP\n",
      "PRES\n",
      "DEWP\n",
      "RAIN\n",
      "wd\n",
      "WSPM\n",
      "station\n"
     ]
    }
   ],
   "source": [
    "for k in X1.keys():\n",
    "    print(k)"
   ]
  },
  {
   "cell_type": "code",
   "execution_count": null,
   "metadata": {},
   "outputs": [],
   "source": []
  },
  {
   "cell_type": "code",
   "execution_count": null,
   "metadata": {},
   "outputs": [],
   "source": []
  },
  {
   "cell_type": "code",
   "execution_count": 13,
   "metadata": {},
   "outputs": [
    {
     "name": "stdout",
     "output_type": "stream",
     "text": [
      "0       2013\n",
      "1       2013\n",
      "2       2013\n",
      "3       2013\n",
      "4       2013\n",
      "        ... \n",
      "7679    2017\n",
      "7680    2017\n",
      "7681    2017\n",
      "7682    2017\n",
      "7683    2017\n",
      "Name: year, Length: 7684, dtype: int64\n"
     ]
    }
   ],
   "source": [
    "print(X1['year'])"
   ]
  },
  {
   "cell_type": "code",
   "execution_count": 48,
   "metadata": {},
   "outputs": [
    {
     "name": "stdout",
     "output_type": "stream",
     "text": [
      "[1, 3]\n"
     ]
    }
   ],
   "source": [
    "import numpy as np\n",
    "X = pd.concat([X1.drop(['station'], axis=1), pd.get_dummies(X1['station']).add_prefix('station_')], axis=1)\n",
    "\n",
    "\n",
    "y = [0, 1, 0, 1]\n",
    "index = [ind for ind,value in enumerate(y) if value==1]\n",
    "print(index)\n",
    "\n",
    "\n",
    "    "
   ]
  },
  {
   "cell_type": "code",
   "execution_count": 50,
   "metadata": {},
   "outputs": [
    {
     "name": "stdout",
     "output_type": "stream",
     "text": [
      "0        3\n",
      "1        9\n",
      "2        6\n",
      "3        5\n",
      "4        9\n",
      "        ..\n",
      "7679    11\n",
      "7680     3\n",
      "7681     4\n",
      "7682     4\n",
      "7683     8\n",
      "Name: station, Length: 7684, dtype: int64\n"
     ]
    },
    {
     "data": {
      "text/html": [
       "<div>\n",
       "<style scoped>\n",
       "    .dataframe tbody tr th:only-of-type {\n",
       "        vertical-align: middle;\n",
       "    }\n",
       "\n",
       "    .dataframe tbody tr th {\n",
       "        vertical-align: top;\n",
       "    }\n",
       "\n",
       "    .dataframe thead th {\n",
       "        text-align: right;\n",
       "    }\n",
       "</style>\n",
       "<table border=\"1\" class=\"dataframe\">\n",
       "  <thead>\n",
       "    <tr style=\"text-align: right;\">\n",
       "      <th></th>\n",
       "      <th>station_0</th>\n",
       "      <th>station_1</th>\n",
       "      <th>station_2</th>\n",
       "      <th>station_3</th>\n",
       "      <th>station_4</th>\n",
       "      <th>station_5</th>\n",
       "      <th>station_6</th>\n",
       "      <th>station_7</th>\n",
       "      <th>station_8</th>\n",
       "      <th>station_9</th>\n",
       "      <th>station_10</th>\n",
       "      <th>station_11</th>\n",
       "    </tr>\n",
       "  </thead>\n",
       "  <tbody>\n",
       "    <tr>\n",
       "      <td>0</td>\n",
       "      <td>0</td>\n",
       "      <td>0</td>\n",
       "      <td>0</td>\n",
       "      <td>1</td>\n",
       "      <td>0</td>\n",
       "      <td>0</td>\n",
       "      <td>0</td>\n",
       "      <td>0</td>\n",
       "      <td>0</td>\n",
       "      <td>0</td>\n",
       "      <td>0</td>\n",
       "      <td>0</td>\n",
       "    </tr>\n",
       "    <tr>\n",
       "      <td>1</td>\n",
       "      <td>0</td>\n",
       "      <td>0</td>\n",
       "      <td>0</td>\n",
       "      <td>0</td>\n",
       "      <td>0</td>\n",
       "      <td>0</td>\n",
       "      <td>0</td>\n",
       "      <td>0</td>\n",
       "      <td>0</td>\n",
       "      <td>1</td>\n",
       "      <td>0</td>\n",
       "      <td>0</td>\n",
       "    </tr>\n",
       "    <tr>\n",
       "      <td>2</td>\n",
       "      <td>0</td>\n",
       "      <td>0</td>\n",
       "      <td>0</td>\n",
       "      <td>0</td>\n",
       "      <td>0</td>\n",
       "      <td>0</td>\n",
       "      <td>1</td>\n",
       "      <td>0</td>\n",
       "      <td>0</td>\n",
       "      <td>0</td>\n",
       "      <td>0</td>\n",
       "      <td>0</td>\n",
       "    </tr>\n",
       "    <tr>\n",
       "      <td>3</td>\n",
       "      <td>0</td>\n",
       "      <td>0</td>\n",
       "      <td>0</td>\n",
       "      <td>0</td>\n",
       "      <td>0</td>\n",
       "      <td>1</td>\n",
       "      <td>0</td>\n",
       "      <td>0</td>\n",
       "      <td>0</td>\n",
       "      <td>0</td>\n",
       "      <td>0</td>\n",
       "      <td>0</td>\n",
       "    </tr>\n",
       "    <tr>\n",
       "      <td>4</td>\n",
       "      <td>0</td>\n",
       "      <td>0</td>\n",
       "      <td>0</td>\n",
       "      <td>0</td>\n",
       "      <td>0</td>\n",
       "      <td>0</td>\n",
       "      <td>0</td>\n",
       "      <td>0</td>\n",
       "      <td>0</td>\n",
       "      <td>1</td>\n",
       "      <td>0</td>\n",
       "      <td>0</td>\n",
       "    </tr>\n",
       "    <tr>\n",
       "      <td>...</td>\n",
       "      <td>...</td>\n",
       "      <td>...</td>\n",
       "      <td>...</td>\n",
       "      <td>...</td>\n",
       "      <td>...</td>\n",
       "      <td>...</td>\n",
       "      <td>...</td>\n",
       "      <td>...</td>\n",
       "      <td>...</td>\n",
       "      <td>...</td>\n",
       "      <td>...</td>\n",
       "      <td>...</td>\n",
       "    </tr>\n",
       "    <tr>\n",
       "      <td>7679</td>\n",
       "      <td>0</td>\n",
       "      <td>0</td>\n",
       "      <td>0</td>\n",
       "      <td>0</td>\n",
       "      <td>0</td>\n",
       "      <td>0</td>\n",
       "      <td>0</td>\n",
       "      <td>0</td>\n",
       "      <td>0</td>\n",
       "      <td>0</td>\n",
       "      <td>0</td>\n",
       "      <td>1</td>\n",
       "    </tr>\n",
       "    <tr>\n",
       "      <td>7680</td>\n",
       "      <td>0</td>\n",
       "      <td>0</td>\n",
       "      <td>0</td>\n",
       "      <td>1</td>\n",
       "      <td>0</td>\n",
       "      <td>0</td>\n",
       "      <td>0</td>\n",
       "      <td>0</td>\n",
       "      <td>0</td>\n",
       "      <td>0</td>\n",
       "      <td>0</td>\n",
       "      <td>0</td>\n",
       "    </tr>\n",
       "    <tr>\n",
       "      <td>7681</td>\n",
       "      <td>0</td>\n",
       "      <td>0</td>\n",
       "      <td>0</td>\n",
       "      <td>0</td>\n",
       "      <td>1</td>\n",
       "      <td>0</td>\n",
       "      <td>0</td>\n",
       "      <td>0</td>\n",
       "      <td>0</td>\n",
       "      <td>0</td>\n",
       "      <td>0</td>\n",
       "      <td>0</td>\n",
       "    </tr>\n",
       "    <tr>\n",
       "      <td>7682</td>\n",
       "      <td>0</td>\n",
       "      <td>0</td>\n",
       "      <td>0</td>\n",
       "      <td>0</td>\n",
       "      <td>1</td>\n",
       "      <td>0</td>\n",
       "      <td>0</td>\n",
       "      <td>0</td>\n",
       "      <td>0</td>\n",
       "      <td>0</td>\n",
       "      <td>0</td>\n",
       "      <td>0</td>\n",
       "    </tr>\n",
       "    <tr>\n",
       "      <td>7683</td>\n",
       "      <td>0</td>\n",
       "      <td>0</td>\n",
       "      <td>0</td>\n",
       "      <td>0</td>\n",
       "      <td>0</td>\n",
       "      <td>0</td>\n",
       "      <td>0</td>\n",
       "      <td>0</td>\n",
       "      <td>1</td>\n",
       "      <td>0</td>\n",
       "      <td>0</td>\n",
       "      <td>0</td>\n",
       "    </tr>\n",
       "  </tbody>\n",
       "</table>\n",
       "<p>7684 rows × 12 columns</p>\n",
       "</div>"
      ],
      "text/plain": [
       "      station_0  station_1  station_2  station_3  station_4  station_5  \\\n",
       "0             0          0          0          1          0          0   \n",
       "1             0          0          0          0          0          0   \n",
       "2             0          0          0          0          0          0   \n",
       "3             0          0          0          0          0          1   \n",
       "4             0          0          0          0          0          0   \n",
       "...         ...        ...        ...        ...        ...        ...   \n",
       "7679          0          0          0          0          0          0   \n",
       "7680          0          0          0          1          0          0   \n",
       "7681          0          0          0          0          1          0   \n",
       "7682          0          0          0          0          1          0   \n",
       "7683          0          0          0          0          0          0   \n",
       "\n",
       "      station_6  station_7  station_8  station_9  station_10  station_11  \n",
       "0             0          0          0          0           0           0  \n",
       "1             0          0          0          1           0           0  \n",
       "2             1          0          0          0           0           0  \n",
       "3             0          0          0          0           0           0  \n",
       "4             0          0          0          1           0           0  \n",
       "...         ...        ...        ...        ...         ...         ...  \n",
       "7679          0          0          0          0           0           1  \n",
       "7680          0          0          0          0           0           0  \n",
       "7681          0          0          0          0           0           0  \n",
       "7682          0          0          0          0           0           0  \n",
       "7683          0          0          1          0           0           0  \n",
       "\n",
       "[7684 rows x 12 columns]"
      ]
     },
     "execution_count": 50,
     "metadata": {},
     "output_type": "execute_result"
    }
   ],
   "source": [
    "print(X1['station'])\n",
    "\n",
    "pd.get_dummies(X1['station']).add_prefix('station_')"
   ]
  },
  {
   "cell_type": "code",
   "execution_count": 81,
   "metadata": {},
   "outputs": [
    {
     "name": "stdout",
     "output_type": "stream",
     "text": [
      "0       2.013250e+07\n",
      "1       2.013250e+07\n",
      "2       2.013251e+07\n",
      "3       2.013251e+07\n",
      "4       2.013251e+07\n",
      "            ...     \n",
      "7679    2.017176e+07\n",
      "7680    2.017176e+07\n",
      "7681    2.017176e+07\n",
      "7682    2.017176e+07\n",
      "7683    2.017176e+07\n",
      "Length: 7684, dtype: float64\n",
      "20132503.559139784\n"
     ]
    }
   ],
   "source": [
    "\n",
    "\n",
    "time = ((X1['year']+X1['month']/12)*100+X1['day']/31)*100+X1['hour']/24\n",
    "  \n",
    "\n",
    "print(time)\n",
    "print(time[0])"
   ]
  },
  {
   "cell_type": "code",
   "execution_count": 69,
   "metadata": {},
   "outputs": [
    {
     "name": "stdout",
     "output_type": "stream",
     "text": [
      "   time\n",
      "0     1\n",
      "1     2\n",
      "2     3\n",
      "   time\n",
      "0     1\n",
      "1     2\n",
      "2     3\n"
     ]
    },
    {
     "data": {
      "text/html": [
       "<div>\n",
       "<style scoped>\n",
       "    .dataframe tbody tr th:only-of-type {\n",
       "        vertical-align: middle;\n",
       "    }\n",
       "\n",
       "    .dataframe tbody tr th {\n",
       "        vertical-align: top;\n",
       "    }\n",
       "\n",
       "    .dataframe thead th {\n",
       "        text-align: right;\n",
       "    }\n",
       "</style>\n",
       "<table border=\"1\" class=\"dataframe\">\n",
       "  <thead>\n",
       "    <tr style=\"text-align: right;\">\n",
       "      <th></th>\n",
       "      <th>time</th>\n",
       "      <th>time</th>\n",
       "    </tr>\n",
       "  </thead>\n",
       "  <tbody>\n",
       "    <tr>\n",
       "      <td>0</td>\n",
       "      <td>1</td>\n",
       "      <td>1</td>\n",
       "    </tr>\n",
       "    <tr>\n",
       "      <td>1</td>\n",
       "      <td>2</td>\n",
       "      <td>2</td>\n",
       "    </tr>\n",
       "    <tr>\n",
       "      <td>2</td>\n",
       "      <td>3</td>\n",
       "      <td>3</td>\n",
       "    </tr>\n",
       "  </tbody>\n",
       "</table>\n",
       "</div>"
      ],
      "text/plain": [
       "   time  time\n",
       "0     1     1\n",
       "1     2     2\n",
       "2     3     3"
      ]
     },
     "execution_count": 69,
     "metadata": {},
     "output_type": "execute_result"
    }
   ],
   "source": [
    "df = pd.DataFrame()\n",
    "df['time'] = [1,2,3]\n",
    "print(df)\n",
    "df2 = pd.DataFrame()\n",
    "df2['time'] = [1,2,3]\n",
    "print(df2)\n",
    "\n",
    "pd.concat([df, df2], axis=1)\n"
   ]
  },
  {
   "cell_type": "code",
   "execution_count": 108,
   "metadata": {},
   "outputs": [
    {
     "name": "stdout",
     "output_type": "stream",
     "text": [
      "[[ 0.40824829 -0.40824829  0.81649658]\n",
      " [ 1.          0.          0.        ]\n",
      " [ 0.          0.70710678 -0.70710678]]\n",
      "[[ 0.25 -0.25  0.5 ]\n",
      " [ 1.    0.    0.  ]\n",
      " [ 0.    0.5  -0.5 ]]\n",
      "      year  month  day  hour   SO2   NO2      CO    O3  TEMP    PRES  ...  \\\n",
      "0     2013      3    1     8  12.0  41.0   500.0  54.0  -0.3  1030.4  ...   \n",
      "1     2013      3    1     9  11.0  22.0   500.0  65.0   0.4  1030.5  ...   \n",
      "2     2013      3    2     7  11.0  18.0   500.0  45.0  -4.0  1026.6  ...   \n",
      "3     2013      3    2    11  27.0  45.0  1399.0  31.0   2.5  1026.4  ...   \n",
      "4     2013      3    2    14  24.0  35.0   800.0  53.0   3.9  1026.8  ...   \n",
      "...    ...    ...  ...   ...   ...   ...     ...   ...   ...     ...  ...   \n",
      "7679  2017      2   28     9   6.0  45.0   700.0  39.0  10.7  1016.7  ...   \n",
      "7680  2017      2   28    17   3.0  12.0   300.0  93.0  14.2  1012.5  ...   \n",
      "7681  2017      2   28    20   4.0  48.0   500.0  43.0  11.6  1013.6  ...   \n",
      "7682  2017      2   28    21   5.0  39.0   500.0  50.0  10.8  1014.2  ...   \n",
      "7683  2017      2   28    23  13.0  34.0   500.0  60.0   7.4  1014.9  ...   \n",
      "\n",
      "      station_3  station_4  station_5  station_6  station_7  station_8  \\\n",
      "0             1          0          0          0          0          0   \n",
      "1             0          0          0          0          0          0   \n",
      "2             0          0          0          1          0          0   \n",
      "3             0          0          1          0          0          0   \n",
      "4             0          0          0          0          0          0   \n",
      "...         ...        ...        ...        ...        ...        ...   \n",
      "7679          0          0          0          0          0          0   \n",
      "7680          1          0          0          0          0          0   \n",
      "7681          0          1          0          0          0          0   \n",
      "7682          0          1          0          0          0          0   \n",
      "7683          0          0          0          0          0          1   \n",
      "\n",
      "      station_9  station_10  station_11          time  \n",
      "0             0           0           0  2.013250e+07  \n",
      "1             1           0           0  2.013250e+07  \n",
      "2             0           0           0  2.013251e+07  \n",
      "3             0           0           0  2.013251e+07  \n",
      "4             1           0           0  2.013251e+07  \n",
      "...         ...         ...         ...           ...  \n",
      "7679          0           0           1  2.017176e+07  \n",
      "7680          0           0           0  2.017176e+07  \n",
      "7681          0           0           0  2.017176e+07  \n",
      "7682          0           0           0  2.017176e+07  \n",
      "7683          0           0           0  2.017176e+07  \n",
      "\n",
      "[7684 rows x 34 columns]\n"
     ]
    }
   ],
   "source": [
    "X = [[ 1., -1.,  2.],\n",
    "     [ 2.,  0.,  0.],\n",
    "     [ 0.,  1., -1.]]\n",
    "X_normalized = preprocessing.normalize(X, norm='l2')\n",
    "print(X_normalized)\n",
    "\n",
    "X_normalized2 = preprocessing.normalize(X, norm='l1')\n",
    "print(X_normalized2)\n",
    "\n",
    "print(X1_handled.)"
   ]
  },
  {
   "cell_type": "code",
   "execution_count": 115,
   "metadata": {},
   "outputs": [
    {
     "data": {
      "text/plain": [
       "(34,)"
      ]
     },
     "execution_count": 115,
     "metadata": {},
     "output_type": "execute_result"
    }
   ],
   "source": [
    "X1_handled.values.shape\n",
    "\n",
    "X_scaled = preprocessing.scale(X1_handled.values)\n",
    "X_scaled.mean(axis=0)"
   ]
  },
  {
   "cell_type": "code",
   "execution_count": 59,
   "metadata": {},
   "outputs": [
    {
     "name": "stdout",
     "output_type": "stream",
     "text": [
      "essai\n"
     ]
    }
   ],
   "source": [
    "print(\"essai\")"
   ]
  },
  {
   "cell_type": "code",
   "execution_count": null,
   "metadata": {},
   "outputs": [],
   "source": []
  }
 ],
 "metadata": {
  "kernelspec": {
   "display_name": "Python 3",
   "language": "python",
   "name": "python3"
  },
  "language_info": {
   "codemirror_mode": {
    "name": "ipython",
    "version": 3
   },
   "file_extension": ".py",
   "mimetype": "text/x-python",
   "name": "python",
   "nbconvert_exporter": "python",
   "pygments_lexer": "ipython3",
   "version": "3.7.3"
  }
 },
 "nbformat": 4,
 "nbformat_minor": 2
}
