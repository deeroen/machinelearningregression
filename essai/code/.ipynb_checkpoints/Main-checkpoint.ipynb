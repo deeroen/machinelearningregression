{
 "cells": [
  {
   "cell_type": "markdown",
   "metadata": {},
   "source": [
    "# Imports"
   ]
  },
  {
   "cell_type": "code",
   "execution_count": 8,
   "metadata": {},
   "outputs": [],
   "source": [
    "import pandas as pd\n",
    "from sklearn.model_selection import train_test_split\n",
    "\n",
    "from visualize import *\n",
    "from data_treatments import *\n",
    "from feature_selection import *\n"
   ]
  },
  {
   "cell_type": "markdown",
   "metadata": {},
   "source": [
    "# Load data"
   ]
  },
  {
   "cell_type": "code",
   "execution_count": 2,
   "metadata": {},
   "outputs": [],
   "source": [
    "X1 = pd.read_csv(\"../data/X1.csv\") # [7684 rows x 15 columns]\n",
    "Y1 = pd.read_csv(\"../data/Y1.csv\",sep='\\t',names=[\"Label\"]) # [7684 rows x 1 columns]\n",
    "X2 = pd.read_csv(\"../data/X2.csv\") # [3787 rows x 15 columns]\n",
    "\n",
    "# X1 = X1.values # converting pandas dataframe to a numpy array"
   ]
  },
  {
   "cell_type": "markdown",
   "metadata": {},
   "source": [
    "# Visualize data"
   ]
  },
  {
   "cell_type": "code",
   "execution_count": 10,
   "metadata": {},
   "outputs": [],
   "source": [
    "#visualize(X1, Y1, 'data.png', True) "
   ]
  },
  {
   "cell_type": "markdown",
   "metadata": {},
   "source": [
    "# Data treatments"
   ]
  },
  {
   "cell_type": "code",
   "execution_count": 5,
   "metadata": {},
   "outputs": [
    {
     "name": "stdout",
     "output_type": "stream",
     "text": [
      "(7684, 34)\n"
     ]
    }
   ],
   "source": [
    "# step 1 : handle cyclic values\n",
    "\n",
    "X1_handled = handlecyclic(X1) # handle month, day, hour and wd cyclic features\n",
    "X1_handled = handle_station(X1_handled) # handle station feature\n",
    "X1_handled = add_linear_time(X1_handled) # add a global linear time (with year, month, day, hour features)\n",
    "\n",
    "print(X1_handled.shape)\n",
    "\n"
   ]
  },
  {
   "cell_type": "markdown",
   "metadata": {},
   "source": [
    "# Visualize new data"
   ]
  },
  {
   "cell_type": "code",
   "execution_count": 7,
   "metadata": {},
   "outputs": [],
   "source": [
    "#visualize(X1_handled, Y1, 'new_data.png', True) "
   ]
  },
  {
   "cell_type": "markdown",
   "metadata": {},
   "source": [
    "# Data Splitting"
   ]
  },
  {
   "cell_type": "code",
   "execution_count": 13,
   "metadata": {},
   "outputs": [
    {
     "name": "stdout",
     "output_type": "stream",
     "text": [
      "(6147, 34)\n",
      "(1537, 34)\n",
      "(6147, 1)\n",
      "(1537, 1)\n"
     ]
    }
   ],
   "source": [
    "# use of random_state parameter ?\n",
    "X_train_valid, X_test, Y_train_valid, Y_test = train_test_split(X1_handled, Y1, test_size=0.2, random_state=0)\n",
    "\n",
    "print(X_train_valid.shape)\n",
    "print(X_test.shape)\n",
    "print(Y_train_valid.shape)\n",
    "print(Y_test.shape)"
   ]
  },
  {
   "cell_type": "markdown",
   "metadata": {},
   "source": [
    "# Normalisation/Standardisation and features selection"
   ]
  },
  {
   "cell_type": "code",
   "execution_count": null,
   "metadata": {},
   "outputs": [],
   "source": [
    "# normalization\n",
    "X_norm = norm(X)\n",
    "# standardisation\n",
    "X_stand = stand(X)\n",
    "\n",
    "# feature selection\n"
   ]
  },
  {
   "cell_type": "markdown",
   "metadata": {},
   "source": [
    "# Main Loop"
   ]
  },
  {
   "cell_type": "code",
   "execution_count": 13,
   "metadata": {},
   "outputs": [],
   "source": [
    "def build_model(X, Y):\n",
    "    \n",
    "    \n",
    "    \n",
    "    "
   ]
  },
  {
   "cell_type": "code",
   "execution_count": null,
   "metadata": {},
   "outputs": [],
   "source": []
  }
 ],
 "metadata": {
  "kernelspec": {
   "display_name": "Python 3",
   "language": "python",
   "name": "python3"
  },
  "language_info": {
   "codemirror_mode": {
    "name": "ipython",
    "version": 3
   },
   "file_extension": ".py",
   "mimetype": "text/x-python",
   "name": "python",
   "nbconvert_exporter": "python",
   "pygments_lexer": "ipython3",
   "version": "3.7.3"
  }
 },
 "nbformat": 4,
 "nbformat_minor": 2
}
