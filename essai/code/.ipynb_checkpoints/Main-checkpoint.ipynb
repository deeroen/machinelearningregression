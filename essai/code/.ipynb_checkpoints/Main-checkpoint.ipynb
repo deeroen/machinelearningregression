{
 "cells": [
  {
   "cell_type": "markdown",
   "metadata": {},
   "source": [
    "# Imports"
   ]
  },
  {
   "cell_type": "code",
   "execution_count": 1,
   "metadata": {},
   "outputs": [],
   "source": [
    "import pandas as pd\n",
    "from sklearn.model_selection import train_test_split\n",
    "\n",
    "from visualize import *\n",
    "from data_treatments import *\n",
    "from feature_selection import *\n",
    "from models import *\n",
    "\n",
    "from tp.competitive_learning import *\n",
    "from tp.linear_model import *\n",
    "from tp.rbfn import *"
   ]
  },
  {
   "cell_type": "markdown",
   "metadata": {},
   "source": [
    "# Load data"
   ]
  },
  {
   "cell_type": "code",
   "execution_count": 2,
   "metadata": {},
   "outputs": [],
   "source": [
    "X1 = pd.read_csv(\"../data/X1.csv\") # [7684 rows x 15 columns]\n",
    "Y1 = pd.read_csv(\"../data/Y1.csv\",sep='\\t',names=[\"Label\"]) # [7684 rows x 1 columns]\n",
    "X2 = pd.read_csv(\"../data/X2.csv\") # [3787 rows x 15 columns]\n",
    "\n",
    "# X1 = X1.values # converting pandas dataframe to a numpy array"
   ]
  },
  {
   "cell_type": "markdown",
   "metadata": {},
   "source": [
    "# Visualize data"
   ]
  },
  {
   "cell_type": "code",
   "execution_count": 3,
   "metadata": {},
   "outputs": [],
   "source": [
    "#visualize(X1, Y1, 'data.png', True) "
   ]
  },
  {
   "cell_type": "markdown",
   "metadata": {},
   "source": [
    "# Data treatments"
   ]
  },
  {
   "cell_type": "code",
   "execution_count": 4,
   "metadata": {},
   "outputs": [
    {
     "name": "stdout",
     "output_type": "stream",
     "text": [
      "(7684, 34)\n"
     ]
    }
   ],
   "source": [
    "# step 1 : handle cyclic values\n",
    "\n",
    "X1_handled = handlecyclic(X1) # handle month, day, hour and wd cyclic features\n",
    "X1_handled = handle_station(X1_handled) # handle station feature\n",
    "X1_handled = add_linear_time(X1_handled) # add a global linear time (with year, month, day, hour features)\n",
    "\n",
    "print(X1_handled.shape)\n",
    "\n"
   ]
  },
  {
   "cell_type": "markdown",
   "metadata": {},
   "source": [
    "# Visualize new data"
   ]
  },
  {
   "cell_type": "code",
   "execution_count": 5,
   "metadata": {},
   "outputs": [],
   "source": [
    "#visualize(X1_handled, Y1, 'new_data.png', True) "
   ]
  },
  {
   "cell_type": "markdown",
   "metadata": {},
   "source": [
    "# Data Splitting"
   ]
  },
  {
   "cell_type": "code",
   "execution_count": 6,
   "metadata": {},
   "outputs": [
    {
     "name": "stdout",
     "output_type": "stream",
     "text": [
      "(6147, 34)\n",
      "(1537, 34)\n",
      "(6147, 1)\n",
      "(1537, 1)\n"
     ]
    }
   ],
   "source": [
    "# use of random_state parameter ?\n",
    "X_train_valid, X_test, Y_train_valid, Y_test = train_test_split(X1_handled, Y1, test_size=0.2, random_state=0)\n",
    "\n",
    "print(X_train_valid.shape)\n",
    "print(X_test.shape)\n",
    "print(Y_train_valid.shape)\n",
    "print(Y_test.shape)"
   ]
  },
  {
   "cell_type": "markdown",
   "metadata": {},
   "source": [
    "# Normalisation/Standardisation"
   ]
  },
  {
   "cell_type": "code",
   "execution_count": 7,
   "metadata": {},
   "outputs": [],
   "source": [
    "# normalization\n",
    "X_norm = norm(X_train_valid)\n",
    "X_norm = pd.DataFrame(X_norm)\n",
    "X_norm.columns = X_train_valid.columns\n",
    "\n",
    "X_norm_test = norm(X_test)\n",
    "X_norm_test = pd.DataFrame(X_norm_test)\n",
    "X_norm_test.columns = X_test.columns\n",
    "\n",
    "# standardisation\n",
    "X_stand = stand(X_train_valid)\n",
    "X_stand = pd.DataFrame(X_stand)\n",
    "X_stand.columns = X_train_valid.columns\n",
    "\n",
    "X_stand_test = stand(X_test)\n",
    "X_stand_test = pd.DataFrame(X_stand_test)\n",
    "X_stand_test.columns = X_test.columns\n"
   ]
  },
  {
   "cell_type": "markdown",
   "metadata": {},
   "source": [
    "# Feature selection"
   ]
  },
  {
   "cell_type": "code",
   "execution_count": 8,
   "metadata": {},
   "outputs": [
    {
     "name": "stdout",
     "output_type": "stream",
     "text": [
      "Index(['DEWP', 'WSPM', 'SO2', 'NO2', 'CO'], dtype='object')\n",
      "Index(['DEWP', 'WSPM', 'SO2', 'NO2', 'CO'], dtype='object')\n"
     ]
    }
   ],
   "source": [
    "# feature selection\n",
    "\n",
    "# previously\n",
    "'''\n",
    "n = 7 # number of feature to select\n",
    "most_mi = print_mutual_information(X1_handled, X_stand.values, Y_train_valid.values.ravel(), 10)\n",
    "a = len(most_mi)\n",
    "index_selected = most_mi[a-n:a]\n",
    "print(index_selected)\n",
    "X1 = X_stand.values[:,index_selected]\n",
    "X1_test = X_stand_test.values[:,index_selected]\n",
    "'''\n",
    "\n",
    "features = features_selection(X_stand, Y_train_valid.values.ravel(), 7)\n",
    "#features = features_selection(X_norm, Y_train_valid.values.ravel(), 7)\n",
    "\n",
    "X_selected = X_stand[features]\n",
    "#X_selected = X_norm[features]\n",
    "\n",
    "X_test_selected = X_stand_test[features]\n",
    "#X_test_selected = X_norm_test[features]\n",
    "\n",
    "print(X_selected.columns)\n",
    "print(X_test_selected.columns)"
   ]
  },
  {
   "cell_type": "markdown",
   "metadata": {},
   "source": [
    "# Building model"
   ]
  },
  {
   "cell_type": "code",
   "execution_count": 9,
   "metadata": {},
   "outputs": [],
   "source": [
    "def build_model(X_train, Y_train, X_test, Y_test, model):\n",
    "    rmse = 1000\n",
    "    \n",
    "    if model[0]=='linear_regression_tp':\n",
    "        rmse = linear_regression_tp(X_train, Y_train, X_test, Y_test)\n",
    "    \n",
    "    elif model[0] =='rbfn_tp':\n",
    "        rmse = rbfn_tp(X_train, Y_train, X_test, Y_test, model[1], model[2])\n",
    "    \n",
    "    elif model[0] =='KNN':\n",
    "        rmse = KNN(X_train, Y_train, X_test, Y_test)\n",
    "    \n",
    "    elif model[0] =='linear_regression':\n",
    "        rmse = linear_regression(X_train, Y_train, X_test, Y_test)\n",
    "    \n",
    "    elif model[0] =='tree':\n",
    "        rmse = tree(X_train, Y_train, X_test, Y_test)\n",
    "    \n",
    "    elif model[0] =='random_forest':\n",
    "        rmse = random_forest(X_train, Y_train, X_test, Y_test)\n",
    "    \n",
    "    elif model[0] =='MLperceptron':\n",
    "        rmse = MLperceptron(X_train, Y_train, X_test, Y_test)\n",
    "    \n",
    "    elif model[0] =='SVM':\n",
    "        rmse = SVM(X_train, Y_train, X_test, Y_test)\n",
    "    \n",
    "    else:\n",
    "        print('incorrect value for model')\n",
    "    return rmse\n",
    "    \n",
    "    "
   ]
  },
  {
   "cell_type": "code",
   "execution_count": 10,
   "metadata": {},
   "outputs": [
    {
     "name": "stdout",
     "output_type": "stream",
     "text": [
      "n_center =  20\n",
      "smooth_f =  4\n",
      "smooth_f =  8\n",
      "n_center =  30\n",
      "smooth_f =  4\n",
      "smooth_f =  8\n",
      "n_center =  40\n",
      "smooth_f =  4\n",
      "smooth_f =  8\n"
     ]
    },
    {
     "data": {
      "text/plain": [
       "40.728885700161854"
      ]
     },
     "execution_count": 10,
     "metadata": {},
     "output_type": "execute_result"
    }
   ],
   "source": [
    "rmse = build_model(X_selected, Y_train_valid, X_test_selected, Y_test, ['rbfn_tp', [20, 30, 40], [4,8]])\n",
    "rmse # 41.109355030141586 # with stand, X_test_selected"
   ]
  },
  {
   "cell_type": "code",
   "execution_count": null,
   "metadata": {},
   "outputs": [],
   "source": []
  },
  {
   "cell_type": "code",
   "execution_count": 11,
   "metadata": {},
   "outputs": [
    {
     "data": {
      "text/plain": [
       "47.5009732912099"
      ]
     },
     "execution_count": 11,
     "metadata": {},
     "output_type": "execute_result"
    }
   ],
   "source": [
    "rmse = build_model(X_selected, Y_train_valid, X_test_selected, Y_test, ['linear_regression_tp'])\n",
    "rmse # 45.81350958024227 # with stand, X_test_selected\n",
    "# 46.555418705773626 # with norm, X_test_selected"
   ]
  },
  {
   "cell_type": "code",
   "execution_count": 12,
   "metadata": {},
   "outputs": [
    {
     "data": {
      "text/plain": [
       "42.7422616742308"
      ]
     },
     "execution_count": 12,
     "metadata": {},
     "output_type": "execute_result"
    }
   ],
   "source": [
    "rmse_knn = build_model(X_selected, Y_train_valid, X_test_selected, Y_test, ['KNN'])\n",
    "rmse_knn # 41.25390056831065 # with stand, X_test_selected\n",
    "# 45.50425826121668 # with norm, X_test_selected"
   ]
  },
  {
   "cell_type": "code",
   "execution_count": null,
   "metadata": {},
   "outputs": [],
   "source": []
  },
  {
   "cell_type": "code",
   "execution_count": 13,
   "metadata": {},
   "outputs": [
    {
     "data": {
      "text/plain": [
       "47.5009732912099"
      ]
     },
     "execution_count": 13,
     "metadata": {},
     "output_type": "execute_result"
    }
   ],
   "source": [
    "rmse_lin_reg = build_model(X_selected, Y_train_valid, X_test_selected, Y_test, ['linear_regression'])\n",
    "rmse_lin_reg # 45.813509580242275 # with stand, X_test_selected\n",
    "# 46.55541870577369 # with norm, X_test_selected"
   ]
  },
  {
   "cell_type": "code",
   "execution_count": null,
   "metadata": {},
   "outputs": [],
   "source": [
    "rmse_tree = build_model(X_selected, Y_train_valid, X_test_selected, Y_test, ['tree'])\n",
    "rmse_tree\n",
    "# very time expensive\n",
    "# 106.71974709600715 # with stand, X_test_selected\n",
    "# 108.58110978903885 # with norm, X_test_selected"
   ]
  },
  {
   "cell_type": "code",
   "execution_count": null,
   "metadata": {},
   "outputs": [],
   "source": [
    "rmse_rf = build_model(X_selected, Y_train_valid, X_test_selected, Y_test, ['random_forest'])\n",
    "rmse_rf # 102.87238489221627 # with stand, X_test_selected\n",
    "# 105.65649031239074 # with norm, X_test_selected"
   ]
  },
  {
   "cell_type": "code",
   "execution_count": null,
   "metadata": {},
   "outputs": [],
   "source": [
    "rmse_mlp = build_model(X_selected, Y_train_valid, X_test_selected, Y_test, ['MLperceptron'])\n",
    "rmse_mlp # 107.77550719298902 # with stand, X_test_selected\n",
    "# 108.22558752681337 # # with norm, X_test_selected"
   ]
  },
  {
   "cell_type": "code",
   "execution_count": null,
   "metadata": {},
   "outputs": [],
   "source": [
    "rmse_svm = build_model(X_selected, Y_train_valid, X_test_selected, Y_test, ['SVM'])\n",
    "rmse_svm # 101.41083882437974, # with stand, X_test_selected\n",
    "# 103.97616339884539 # with norm, X_test_selected"
   ]
  },
  {
   "cell_type": "code",
   "execution_count": null,
   "metadata": {},
   "outputs": [],
   "source": []
  }
 ],
 "metadata": {
  "kernelspec": {
   "display_name": "Python 3",
   "language": "python",
   "name": "python3"
  },
  "language_info": {
   "codemirror_mode": {
    "name": "ipython",
    "version": 3
   },
   "file_extension": ".py",
   "mimetype": "text/x-python",
   "name": "python",
   "nbconvert_exporter": "python",
   "pygments_lexer": "ipython3",
   "version": "3.7.3"
  }
 },
 "nbformat": 4,
 "nbformat_minor": 2
}
