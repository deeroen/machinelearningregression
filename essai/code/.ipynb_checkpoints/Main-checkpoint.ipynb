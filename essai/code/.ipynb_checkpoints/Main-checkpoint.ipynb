{
 "cells": [
  {
   "cell_type": "markdown",
   "metadata": {},
   "source": [
    "# Imports"
   ]
  },
  {
   "cell_type": "code",
   "execution_count": 1,
   "metadata": {},
   "outputs": [],
   "source": [
    "import pandas as pd\n",
    "from sklearn.model_selection import train_test_split\n",
    "\n",
    "from visualize import *\n",
    "from data_treatments import *\n",
    "from feature_selection import *\n",
    "from models import *\n",
    "\n",
    "from tp.competitive_learning import *\n",
    "from tp.linear_model import *\n",
    "from tp.rbfn import *"
   ]
  },
  {
   "cell_type": "markdown",
   "metadata": {},
   "source": [
    "# Load data"
   ]
  },
  {
   "cell_type": "code",
   "execution_count": 2,
   "metadata": {},
   "outputs": [],
   "source": [
    "X1 = pd.read_csv(\"../data/X1.csv\") # [7684 rows x 15 columns]\n",
    "Y1 = pd.read_csv(\"../data/Y1.csv\",sep='\\t',names=[\"Label\"]) # [7684 rows x 1 columns]\n",
    "X2 = pd.read_csv(\"../data/X2.csv\") # [3787 rows x 15 columns]\n",
    "\n",
    "# X1 = X1.values # converting pandas dataframe to a numpy array"
   ]
  },
  {
   "cell_type": "markdown",
   "metadata": {},
   "source": [
    "# Visualize data"
   ]
  },
  {
   "cell_type": "code",
   "execution_count": 3,
   "metadata": {},
   "outputs": [],
   "source": [
    "#visualize(X1, Y1, 'data.png', True) "
   ]
  },
  {
   "cell_type": "markdown",
   "metadata": {},
   "source": [
    "# Data treatments"
   ]
  },
  {
   "cell_type": "code",
   "execution_count": 4,
   "metadata": {},
   "outputs": [
    {
     "name": "stdout",
     "output_type": "stream",
     "text": [
      "(7684, 34)\n"
     ]
    }
   ],
   "source": [
    "# step 1 : handle cyclic values\n",
    "\n",
    "X1_handled = handlecyclic(X1) # handle month, day, hour and wd cyclic features\n",
    "X1_handled = handle_station(X1_handled) # handle station feature\n",
    "X1_handled = add_linear_time(X1_handled) # add a global linear time (with year, month, day, hour features)\n",
    "\n",
    "print(X1_handled.shape)\n",
    "\n"
   ]
  },
  {
   "cell_type": "markdown",
   "metadata": {},
   "source": [
    "# Visualize new data"
   ]
  },
  {
   "cell_type": "code",
   "execution_count": 5,
   "metadata": {},
   "outputs": [],
   "source": [
    "#visualize(X1_handled, Y1, 'new_data.PNG', True) "
   ]
  },
  {
   "cell_type": "markdown",
   "metadata": {},
   "source": [
    "# Data Splitting"
   ]
  },
  {
   "cell_type": "code",
   "execution_count": 6,
   "metadata": {},
   "outputs": [
    {
     "name": "stdout",
     "output_type": "stream",
     "text": [
      "(6147, 34)\n",
      "(1537, 34)\n",
      "(6147, 1)\n",
      "(1537, 1)\n"
     ]
    }
   ],
   "source": [
    "# use of random_state parameter ?\n",
    "X_train_valid, X_test, Y_train_valid, Y_test = train_test_split(X1_handled, Y1, test_size=0.2, random_state=0)\n",
    "\n",
    "print(X_train_valid.shape)\n",
    "print(X_test.shape)\n",
    "print(Y_train_valid.shape)\n",
    "print(Y_test.shape)"
   ]
  },
  {
   "cell_type": "markdown",
   "metadata": {},
   "source": [
    "# Normalisation/Standardisation"
   ]
  },
  {
   "cell_type": "code",
   "execution_count": 7,
   "metadata": {},
   "outputs": [
    {
     "data": {
      "text/plain": [
       "'This funciton takes a imput a dataframe and return a list of the features that are not normal (with threshold alpha)'"
      ]
     },
     "execution_count": 7,
     "metadata": {},
     "output_type": "execute_result"
    }
   ],
   "source": [
    "from scipy.stats import shapiro\n",
    "\n",
    "'''This funciton takes a imput a dataframe and return a list of the features that are not normal (with threshold alpha)'''\n",
    "#list = isnormal(X_train_valid)\n"
   ]
  },
  {
   "cell_type": "code",
   "execution_count": 8,
   "metadata": {},
   "outputs": [],
   "source": [
    "# normalization\n",
    "[X_norm, X_norm_test] = norm(X_train_valid, X_test)\n",
    "\n",
    "X_norm = pd.DataFrame(X_norm)\n",
    "X_norm.columns = X_train_valid.columns\n",
    "\n",
    "X_norm_test = pd.DataFrame(X_norm_test)\n",
    "X_norm_test.columns = X_test.columns\n",
    "\n",
    "# standardisation\n",
    "[X_stand,X_stand_test] = stand(X_train_valid, X_test, False)\n",
    "X_stand = pd.DataFrame(X_stand)\n",
    "X_stand.columns = X_train_valid.columns\n",
    "\n",
    "X_stand_test = pd.DataFrame(X_stand_test)\n",
    "X_stand_test.columns = X_test.columns\n",
    "\n",
    "# robust scaler (outliers)\n",
    "[X_trans,X_trans_test] = robust_scaler(X_train_valid, X_test)\n",
    "X_trans = pd.DataFrame(X_trans)\n",
    "X_trans.columns = X_train_valid.columns\n",
    "X_trans_test = pd.DataFrame(X_trans_test)\n",
    "X_trans_test.columns = X_test.columns\n",
    "\n"
   ]
  },
  {
   "cell_type": "markdown",
   "metadata": {},
   "source": [
    "# Feature selection"
   ]
  },
  {
   "cell_type": "markdown",
   "metadata": {},
   "source": [
    "### with standardisation"
   ]
  },
  {
   "cell_type": "code",
   "execution_count": null,
   "metadata": {},
   "outputs": [],
   "source": [
    "# feature selection\n",
    "\n",
    "# previously\n",
    "'''\n",
    "n = 7 # number of feature to select\n",
    "most_mi = print_mutual_information(X1_handled, X_stand.values, Y_train_valid.values.ravel(), 10)\n",
    "a = len(most_mi)\n",
    "index_selected = most_mi[a-n:a]\n",
    "print(index_selected)\n",
    "X1 = X_stand.values[:,index_selected]\n",
    "X1_test = X_stand_test.values[:,index_selected]\n",
    "'''\n",
    "\n",
    "features = features_selection(X_stand, Y_train_valid.values.ravel(), 7)\n",
    "X_selected_stand = X_stand[features]\n",
    "X_test_selected_stand = X_stand_test[features]\n",
    "\n",
    "\n",
    "print(X_selected_stand.columns)\n",
    "#print(X_test_selected.columns)"
   ]
  },
  {
   "cell_type": "markdown",
   "metadata": {},
   "source": [
    "### with robut_scaler"
   ]
  },
  {
   "cell_type": "code",
   "execution_count": 9,
   "metadata": {},
   "outputs": [
    {
     "name": "stdout",
     "output_type": "stream",
     "text": [
      "Index(['DEWP', 'wd_sin', 'NO2', 'O3', 'time', 'SO2', 'mnth_cos', 'PRES',\n",
      "       'WSPM', 'hr_sin', 'TEMP', 'CO'],\n",
      "      dtype='object')\n"
     ]
    }
   ],
   "source": [
    "features = features_selection(X_trans, Y_train_valid.values.ravel(), 7)\n",
    "X_selected_trans = X_trans[features]\n",
    "X_test_selected_trans = X_trans_test[features]\n",
    "print(X_selected_trans.columns)"
   ]
  },
  {
   "cell_type": "markdown",
   "metadata": {},
   "source": [
    "# Dimensionality reduction (instead of feature selection) using PCA"
   ]
  },
  {
   "cell_type": "code",
   "execution_count": null,
   "metadata": {},
   "outputs": [],
   "source": [
    "from sklearn.decomposition import PCA\n",
    "\n",
    "#pca = PCA()\n",
    "pca = PCA(n_components=10)\n",
    "pca.fit_transform(X_trans)\n",
    "\n",
    "print(pca.explained_variance_ratio_)\n",
    "print(\"pca.explained_variance_ratio_ = \", np.sum(pca.explained_variance_ratio_))\n"
   ]
  },
  {
   "cell_type": "markdown",
   "metadata": {},
   "source": [
    "# Building model"
   ]
  },
  {
   "cell_type": "code",
   "execution_count": 10,
   "metadata": {},
   "outputs": [],
   "source": [
    "def build_model(X_train, Y_train, X_test, Y_test, model):\n",
    "    rmse = 1000\n",
    "    \n",
    "    if model[0]=='linear_regression_tp':\n",
    "        rmse = linear_regression_tp(X_train, Y_train, X_test, Y_test)\n",
    "    \n",
    "    elif model[0] =='rbfn_tp':\n",
    "        rmse = rbfn_tp(X_train, Y_train, X_test, Y_test, model[1], model[2])\n",
    "    \n",
    "    elif model[0] =='KNN':\n",
    "        rmse = KNN(X_train, Y_train, X_test, Y_test)\n",
    "    \n",
    "    elif model[0] =='linear_regression':\n",
    "        rmse = linear_regression(X_train, Y_train, X_test, Y_test)\n",
    "    \n",
    "    elif model[0] =='tree':\n",
    "        rmse = tree(X_train, Y_train, X_test, Y_test)\n",
    "    \n",
    "    elif model[0] =='random_forest':\n",
    "        rmse = random_forest(X_train, Y_train, X_test, Y_test)\n",
    "    \n",
    "    elif model[0] =='MLperceptron':\n",
    "        rmse = MLperceptron(X_train, Y_train, X_test, Y_test)\n",
    "    \n",
    "    elif model[0] =='SVM':\n",
    "        rmse = SVM(X_train, Y_train, X_test, Y_test)\n",
    "    \n",
    "    else:\n",
    "        print('incorrect value for model')\n",
    "    return rmse\n",
    "    \n",
    "    "
   ]
  },
  {
   "cell_type": "markdown",
   "metadata": {},
   "source": [
    "# Performance of the models"
   ]
  },
  {
   "cell_type": "markdown",
   "metadata": {},
   "source": [
    "### with standardisation"
   ]
  },
  {
   "cell_type": "code",
   "execution_count": null,
   "metadata": {},
   "outputs": [],
   "source": [
    "rmse = build_model(X_selected_stand, Y_train_valid, X_test_selected_stand, Y_test, ['rbfn_tp', [20, 30, 40], [4,8]])\n",
    "rmse # 41.109355030141586 # with stand, X_test_selected"
   ]
  },
  {
   "cell_type": "code",
   "execution_count": null,
   "metadata": {},
   "outputs": [],
   "source": [
    "rmse = build_model(X_selected_stand, Y_train_valid, X_test_selected_stand, Y_test, ['linear_regression_tp'])\n",
    "rmse # 45.81350958024227 # with stand, X_test_selected\n",
    "# 46.555418705773626 # with norm, X_test_selected"
   ]
  },
  {
   "cell_type": "code",
   "execution_count": null,
   "metadata": {},
   "outputs": [],
   "source": [
    "rmse_knn = build_model(X_selected_stand, Y_train_valid, X_test_selected_stand, Y_test, ['KNN'])\n",
    "rmse_knn # 41.25390056831065 # with stand, X_test_selected\n",
    "# 45.50425826121668 # with norm, X_test_selected"
   ]
  },
  {
   "cell_type": "code",
   "execution_count": null,
   "metadata": {},
   "outputs": [],
   "source": [
    "rmse_lin_reg = build_model(X_selected_stand, Y_train_valid, X_test_selected_stand, Y_test, ['linear_regression'])\n",
    "rmse_lin_reg # 45.813509580242275 # with stand, X_test_selected\n",
    "# 46.55541870577369 # with norm, X_test_selected"
   ]
  },
  {
   "cell_type": "code",
   "execution_count": null,
   "metadata": {},
   "outputs": [],
   "source": [
    "rmse_tree = build_model(X_selected_stand, Y_train_valid, X_test_selected_stand, Y_test, ['tree'])\n",
    "rmse_tree\n",
    "# very time expensive\n"
   ]
  },
  {
   "cell_type": "code",
   "execution_count": null,
   "metadata": {},
   "outputs": [],
   "source": [
    "rmse_rf = build_model(X_selected_stand, Y_train_valid, X_test_selected_stand, Y_test, ['random_forest'])\n",
    "rmse_rf "
   ]
  },
  {
   "cell_type": "code",
   "execution_count": null,
   "metadata": {},
   "outputs": [],
   "source": [
    "rmse_mlp = build_model(X_selected_stand, Y_train_valid, X_test_selected_stand, Y_test, ['MLperceptron'])\n",
    "rmse_mlp "
   ]
  },
  {
   "cell_type": "code",
   "execution_count": null,
   "metadata": {},
   "outputs": [],
   "source": [
    "rmse_svm = build_model(X_selected_stand, Y_train_valid, X_test_selected_stand, Y_test, ['SVM'])\n",
    "rmse_svm "
   ]
  },
  {
   "cell_type": "markdown",
   "metadata": {},
   "source": [
    "### With robust_scaler"
   ]
  },
  {
   "cell_type": "code",
   "execution_count": 11,
   "metadata": {},
   "outputs": [
    {
     "name": "stdout",
     "output_type": "stream",
     "text": [
      "n_center =  20\n",
      "smooth_f =  4\n",
      "smooth_f =  8\n",
      "n_center =  30\n",
      "smooth_f =  4\n",
      "smooth_f =  8\n",
      "n_center =  40\n",
      "smooth_f =  4\n",
      "smooth_f =  8\n"
     ]
    },
    {
     "data": {
      "text/plain": [
       "40.12111959245933"
      ]
     },
     "execution_count": 11,
     "metadata": {},
     "output_type": "execute_result"
    }
   ],
   "source": [
    "[rmse, rmses_train, rmses_test] = build_model(X_selected_trans, Y_train_valid, X_test_selected_trans, Y_test, ['rbfn_tp', [20, 30, 40], [4,8]])\n",
    "rmse # 40.12111959245933"
   ]
  },
  {
   "cell_type": "code",
   "execution_count": 20,
   "metadata": {},
   "outputs": [
    {
     "name": "stdout",
     "output_type": "stream",
     "text": [
      "{20: [44.69186952672285, 44.12552475066397], 30: [42.40075574508107, 42.19663102716723], 40: [41.05928887440521, 41.341601881755864]}\n",
      "{20: [43.251395441565016, 42.249180404859864], 30: [40.90223948205746, 40.68938827951188], 40: [39.86338901143768, 40.12237325861007]}\n"
     ]
    },
    {
     "data": {
      "image/png": "[encoded data removed]",
      "text/plain": [
       "<Figure size 1800x1200 with 1 Axes>"
      ]
     },
     "metadata": {
      "needs_background": "light"
     },
     "output_type": "display_data"
    }
   ],
   "source": [
    "print(rmses_train)\n",
    "print(rmses_test)\n",
    "\n",
    "import matplotlib.pyplot as plt\n",
    "\n",
    "if True:\n",
    "    plt.figure(dpi=300)\n",
    "    plt.title('RMSE for KNN')\n",
    "    plt.scatter([20,30,40], [rmses_train[20][0], rmses_train[30][0], rmses_train[40][0] ], label='rmse_train')\n",
    "    plt.scatter([20,30,40], [rmses_test[20][0], rmses_test[30][0], rmses_test[40][0] ], label='rmse_train')\n",
    "    plt.xlabel('number of centroids')\n",
    "    plt.ylabel('RMSE')\n",
    "    plt.legend()\n",
    "    #plt.show()\n",
    "    plt.savefig('rbfn_plot.png')"
   ]
  },
  {
   "cell_type": "code",
   "execution_count": 12,
   "metadata": {},
   "outputs": [
    {
     "data": {
      "text/plain": [
       "45.84108722841299"
      ]
     },
     "execution_count": 12,
     "metadata": {},
     "output_type": "execute_result"
    }
   ],
   "source": [
    "rmse = build_model(X_selected_trans, Y_train_valid, X_test_selected_trans, Y_test, ['linear_regression_tp'])\n",
    "rmse  #45.84108722841299"
   ]
  },
  {
   "cell_type": "code",
   "execution_count": 13,
   "metadata": {},
   "outputs": [
    {
     "data": {
      "text/plain": [
       "41.41294425130135"
      ]
     },
     "execution_count": 13,
     "metadata": {},
     "output_type": "execute_result"
    }
   ],
   "source": [
    "rmse_knn = build_model(X_selected_trans, Y_train_valid, X_test_selected_trans, Y_test, ['KNN'])\n",
    "rmse_knn #41.41294425130135"
   ]
  },
  {
   "cell_type": "code",
   "execution_count": null,
   "metadata": {},
   "outputs": [],
   "source": [
    "rmse_lin_reg = build_model(X_selected_trans, Y_train_valid, X_test_selected_trans, Y_test, ['linear_regression'])\n",
    "rmse_lin_reg #45.84108722841296"
   ]
  },
  {
   "cell_type": "code",
   "execution_count": 14,
   "metadata": {},
   "outputs": [
    {
     "data": {
      "text/plain": [
       "46.1311463097737"
      ]
     },
     "execution_count": 14,
     "metadata": {},
     "output_type": "execute_result"
    }
   ],
   "source": [
    "rmse_tree = build_model(X_selected_trans, Y_train_valid, X_test_selected_trans, Y_test, ['tree'])\n",
    "rmse_tree # 46.1311463097737 !!!\n"
   ]
  },
  {
   "cell_type": "code",
   "execution_count": null,
   "metadata": {},
   "outputs": [],
   "source": [
    "rmse_rf = build_model(X_selected_trans, Y_train_valid, X_test_selected_trans, Y_test, ['random_forest'])\n",
    "rmse_rf "
   ]
  },
  {
   "cell_type": "code",
   "execution_count": null,
   "metadata": {},
   "outputs": [],
   "source": [
    "rmse_mlp = build_model(X_selected_trans, Y_train_valid, X_test_selected_trans, Y_test, ['MLperceptron'])\n",
    "rmse_mlp "
   ]
  },
  {
   "cell_type": "code",
   "execution_count": 15,
   "metadata": {},
   "outputs": [
    {
     "name": "stderr",
     "output_type": "stream",
     "text": [
      "//miniconda3/lib/python3.7/site-packages/sklearn/utils/validation.py:724: DataConversionWarning: A column-vector y was passed when a 1d array was expected. Please change the shape of y to (n_samples, ), for example using ravel().\n",
      "  y = column_or_1d(y, warn=True)\n"
     ]
    },
    {
     "data": {
      "text/plain": [
       "[43.463949029766184,\n",
       " [-43.89773021431109,\n",
       "  {'C': 10, 'degree': 3, 'gamma': 'auto', 'kernel': 'rbf'},\n",
       "  SVR(C=10, cache_size=200, coef0=0.0, degree=3, epsilon=0.1, gamma='auto',\n",
       "      kernel='rbf', max_iter=-1, shrinking=True, tol=0.001, verbose=False)]]"
      ]
     },
     "execution_count": 15,
     "metadata": {},
     "output_type": "execute_result"
    }
   ],
   "source": [
    "rmse_svm = build_model(X_selected_trans, Y_train_valid, X_test_selected_trans, Y_test, ['SVM'])\n",
    "rmse_svm # 43.463949029766184"
   ]
  },
  {
   "cell_type": "code",
   "execution_count": null,
   "metadata": {},
   "outputs": [],
   "source": []
  },
  {
   "cell_type": "code",
   "execution_count": null,
   "metadata": {},
   "outputs": [],
   "source": [
    "def custom_metric(y_test, y_pred):\n",
    "    return np.sqrt(mean_squared_error(y_test, y_pred))"
   ]
  },
  {
   "cell_type": "code",
   "execution_count": null,
   "metadata": {},
   "outputs": [],
   "source": [
    "def tree_print2(X_train, Y_train, X_test, Y_test ):\n",
    "    param_grid = {'max_depth':[2,5,10,20],\n",
    "        'min_impurity_decrease':[0, 0.01, 0.1],\n",
    "        \"min_samples_leaf\" : [5,10,20,50],\n",
    "        'criterion':['mse']}\n",
    "    Tree = DecisionTreeRegressor()\n",
    "\n",
    "    grid = GridSearchCV(Tree, param_grid, cv = 5, scoring = M_squared_error)\n",
    "    grid.fit(X_train,Y_train)\n",
    "\n",
    "    print (grid.best_score_)\n",
    "    print (grid.best_params_)\n",
    "    print (grid.best_estimator_)\n",
    "\n",
    "    clf = grid.best_estimator_\n",
    "    clf.fit(X_train,Y_train)\n",
    "    \n",
    "    pred_train = clf.predict(X_train[X_train.columns])\n",
    "    pred_test = clf.predict(X_test[X_train.columns])\n",
    "    \n",
    "    return [custom_metric(pred_train, Y_train.values), custom_metric(pred_test,Y_test.values)]"
   ]
  },
  {
   "cell_type": "code",
   "execution_count": null,
   "metadata": {},
   "outputs": [],
   "source": [
    "rmses = tree_print2(X_selected_trans, Y_train_valid, X_test_selected_trans, Y_test)\n",
    "rmses"
   ]
  },
  {
   "cell_type": "code",
   "execution_count": null,
   "metadata": {},
   "outputs": [],
   "source": []
  },
  {
   "cell_type": "code",
   "execution_count": null,
   "metadata": {},
   "outputs": [],
   "source": []
  },
  {
   "cell_type": "code",
   "execution_count": null,
   "metadata": {},
   "outputs": [],
   "source": [
    "def print_KNN(X_train, Y_train, X_test, Y_test, k_range):\n",
    "    \n",
    "    #k_range=list(range(1,31)) + [50,100]\n",
    "    #k_range= [50,100]\n",
    "    #k_range=[500,1000]\n",
    "    \n",
    "    weight_options = [\"uniform\"]\n",
    "    #weight_options = [\"distance\"]\n",
    "    param_grid = dict(n_neighbors = k_range, weights = weight_options)\n",
    "    \n",
    "    knn = KNeighborsRegressor()\n",
    "    \n",
    "    grid = GridSearchCV(knn, param_grid, cv = 5, scoring = M_squared_error)\n",
    "    grid.fit(X_train,Y_train)\n",
    "\n",
    "    #print (grid.best_score_)\n",
    "    #print (grid.best_params_)\n",
    "    #print (grid.best_estimator_)\n",
    "\n",
    "    clf = grid.best_estimator_\n",
    "    clf.fit(X_train,Y_train)\n",
    "\n",
    "    pred_train = clf.predict(X_train[X_train.columns])\n",
    "    pred_test = clf.predict(X_test[X_train.columns])\n",
    "    return [custom_metric(pred_train,Y_train.values),custom_metric(pred_test,Y_test.values)]"
   ]
  },
  {
   "cell_type": "code",
   "execution_count": null,
   "metadata": {},
   "outputs": [],
   "source": [
    "# How vary RMSE according to the number if neighbors, for the train_set and the test_set\n",
    "rmses_train = list()\n",
    "rmses_test = list()\n",
    "\n",
    "for i in range(2, 30):\n",
    "    [rmse_train, rmse_test] = print_KNN(X_selected_stand, Y_train_valid, X_test_selected_stand, Y_test, list(range(i-1,i)))\n",
    "    #print(rmse_train, rmse_test)\n",
    "    rmses_train.append(rmse_train)\n",
    "    rmses_test.append(rmse_test)\n",
    "\n",
    "\n"
   ]
  },
  {
   "cell_type": "code",
   "execution_count": null,
   "metadata": {},
   "outputs": [],
   "source": [
    "import matplotlib.pyplot as plt\n",
    "\n",
    "if False:\n",
    "    plt.figure(dpi=300)\n",
    "    plt.title('RMSE for KNN')\n",
    "    plt.plot(list(range(1,29)), rmses_train, label='rmse_train')\n",
    "    plt.plot(list(range(1,29)), rmses_test, label='rmse_test')\n",
    "    plt.xlabel('n_neighbors parameter')\n",
    "    plt.ylabel('RMSE')\n",
    "    plt.legend()\n",
    "    #plt.show()\n",
    "    plt.savefig('knn_plot.png')\n",
    "\n",
    "    plt.figure(dpi=300)\n",
    "    plt.title('RMSE for KNN')\n",
    "    plt.scatter(list(range(1,29)), rmses_train, label='rmse_train')\n",
    "    plt.scatter(list(range(1,29)), rmses_test, label='rmse_test')\n",
    "    plt.xlabel('n_neighbors parameter')\n",
    "    plt.ylabel('RMSE')\n",
    "    plt.legend()\n",
    "    #plt.show()\n",
    "    plt.savefig('knn_scatter.png')\n",
    "\n"
   ]
  },
  {
   "cell_type": "code",
   "execution_count": null,
   "metadata": {},
   "outputs": [],
   "source": []
  },
  {
   "cell_type": "code",
   "execution_count": null,
   "metadata": {},
   "outputs": [],
   "source": []
  },
  {
   "cell_type": "code",
   "execution_count": null,
   "metadata": {},
   "outputs": [],
   "source": [
    "def print_SVM(X_train, Y_train, X_test, Y_test, c=10, g='auto', e=0.1 ):\n",
    "    \n",
    "    svc = svm.SVR(kernel= 'rbf', C=c, gamma=g, epsilon=e)\n",
    "    #grid = GridSearchCV(svc, parameters, cv=5,scoring = M_squared_error)\n",
    "    #grid.fit(X_train,Y_train.values.ravel())\n",
    "    \n",
    "    svc.fit(X_train,Y_train.values.ravel())\n",
    "    pred_train = svc.predict(X_train[X_train.columns])\n",
    "    pred_test = svc.predict(X_test[X_train.columns])\n",
    "\n",
    "    #print (grid.best_score_)\n",
    "    #print (grid.best_params_)\n",
    "    #print (grid.best_estimator_)\n",
    "\n",
    "\n",
    "    #clf = grid.best_estimator_\n",
    "    #clf.fit(X_train,Y_train.values.ravel())\n",
    "\n",
    "    #pred_train = clf.predict(X_train[X_train.columns])\n",
    "    #pred_test = clf.predict(X_test[X_train.columns])\n",
    "    return [custom_metric(pred_train,Y_train.values), custom_metric(pred_test,Y_test.values)]"
   ]
  },
  {
   "cell_type": "code",
   "execution_count": null,
   "metadata": {},
   "outputs": [],
   "source": [
    "rmses_train = list()\n",
    "rmses_test = list()\n",
    "\n",
    "for c in [1, 10, 100, 200, 300, 1000]:\n",
    "    [rmse_train, rmse_test] = print_SVM(X_selected_stand, Y_train_valid, X_test_selected_stand, Y_test, c=c)\n",
    "    rmses_train.append(rmse_train)\n",
    "    rmses_test.append(rmse_test)\n",
    "    print(c, rmse_train, rmse_test)"
   ]
  },
  {
   "cell_type": "code",
   "execution_count": null,
   "metadata": {},
   "outputs": [],
   "source": []
  },
  {
   "cell_type": "code",
   "execution_count": null,
   "metadata": {},
   "outputs": [],
   "source": []
  },
  {
   "cell_type": "code",
   "execution_count": null,
   "metadata": {},
   "outputs": [],
   "source": []
  },
  {
   "cell_type": "markdown",
   "metadata": {},
   "source": [
    "# Outliers"
   ]
  },
  {
   "cell_type": "code",
   "execution_count": null,
   "metadata": {},
   "outputs": [],
   "source": [
    "#The histrogam below plot the output Y1 for the train-valid set\n",
    "hist = Y_test.hist(bins=300)\n",
    "\n"
   ]
  },
  {
   "cell_type": "code",
   "execution_count": null,
   "metadata": {},
   "outputs": [],
   "source": [
    "i = 400\n",
    "X_selected_outliers = X_selected.loc[list(Y_train_valid['Label']<i)]\n",
    "Y_train_valid_outliers = Y_train_valid[list(Y_train_valid['Label']<i)]\n",
    "print(X_selected.shape)\n",
    "print(X_selected_outliers.shape)\n",
    "\n"
   ]
  },
  {
   "cell_type": "code",
   "execution_count": null,
   "metadata": {},
   "outputs": [],
   "source": [
    "rmse_lin_reg_outlier = build_model(X_selected_outliers, Y_train_valid_outliers, X_test_selected, Y_test, ['linear_regression'])\n",
    "rmse_lin_reg_outlier # 45.813509580242254 # with stand, X_test_selected\n",
    "                    # 46.32600875114827 # with stand, X_test_selected_outlier"
   ]
  },
  {
   "cell_type": "code",
   "execution_count": null,
   "metadata": {},
   "outputs": [],
   "source": [
    "rmse_knn_outlier = build_model(X_selected_outliers, Y_train_valid_outliers, X_test_selected, Y_test, ['KNN'])\n",
    "rmse_knn_outlier # 41.25390056831065 # with stand, X_test_selected\n",
    "                # 44.26778845376413  # with stand, X_test_selected_outlier"
   ]
  },
  {
   "cell_type": "markdown",
   "metadata": {},
   "source": [
    "# Reducing dimentions PCA (after feature selection)"
   ]
  },
  {
   "cell_type": "code",
   "execution_count": null,
   "metadata": {},
   "outputs": [],
   "source": [
    "from sklearn.decomposition import PCA\n",
    "\n",
    "pca = PCA()\n",
    "\n",
    "pca = PCA(n_components=5)\n",
    "pca.fit_transform(X_selected)\n",
    "\n",
    "print(pca.explained_variance_ratio_)\n",
    "print(\"pca.explained_variance_ratio_ = \", np.sum(pca.explained_variance_ratio_))\n"
   ]
  },
  {
   "cell_type": "code",
   "execution_count": null,
   "metadata": {},
   "outputs": [],
   "source": [
    "X_selected_pca = pd.DataFrame(pca.transform(X_selected))\n",
    "X_test_selected_pca = pd.DataFrame(pca.transform(X_test_selected))\n",
    "print(X_selected_pca)\n"
   ]
  },
  {
   "cell_type": "code",
   "execution_count": null,
   "metadata": {},
   "outputs": [],
   "source": [
    "rmse_lin_reg_pca = build_model(X_selected_pca, Y_train_valid, X_test_selected_pca, Y_test, ['linear_regression'])\n",
    "rmse_lin_reg_pca # 45.813509580242254 # with stand, X_test_selected\n",
    "                    # 52.12101428226876 # with stand, X_test_selected_pca"
   ]
  },
  {
   "cell_type": "code",
   "execution_count": null,
   "metadata": {},
   "outputs": [],
   "source": []
  }
 ],
 "metadata": {
  "kernelspec": {
   "display_name": "Python 3",
   "language": "python",
   "name": "python3"
  },
  "language_info": {
   "codemirror_mode": {
    "name": "ipython",
    "version": 3
   },
   "file_extension": ".py",
   "mimetype": "text/x-python",
   "name": "python",
   "nbconvert_exporter": "python",
   "pygments_lexer": "ipython3",
   "version": "3.7.3"
  }
 },
 "nbformat": 4,
 "nbformat_minor": 2
}
