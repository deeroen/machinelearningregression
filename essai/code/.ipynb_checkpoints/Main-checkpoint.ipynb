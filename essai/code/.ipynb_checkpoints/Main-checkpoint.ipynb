{
 "cells": [
  {
   "cell_type": "markdown",
   "metadata": {},
   "source": [
    "# Imports"
   ]
  },
  {
   "cell_type": "code",
   "execution_count": 1,
   "metadata": {},
   "outputs": [],
   "source": [
    "import pandas as pd\n",
    "from sklearn.model_selection import train_test_split\n",
    "\n",
    "from visualize import *\n",
    "from data_treatments import *\n",
    "from feature_selection import *\n",
    "from models import *\n",
    "\n",
    "from tp.competitive_learning import *\n",
    "from tp.linear_model import *\n",
    "from tp.rbfn import *"
   ]
  },
  {
   "cell_type": "markdown",
   "metadata": {},
   "source": [
    "# Load data"
   ]
  },
  {
   "cell_type": "code",
   "execution_count": 2,
   "metadata": {},
   "outputs": [],
   "source": [
    "X1 = pd.read_csv(\"../data/X1.csv\") # [7684 rows x 15 columns]\n",
    "Y1 = pd.read_csv(\"../data/Y1.csv\",sep='\\t',names=[\"Label\"]) # [7684 rows x 1 columns]\n",
    "X2 = pd.read_csv(\"../data/X2.csv\") # [3787 rows x 15 columns]\n",
    "\n",
    "# X1 = X1.values # converting pandas dataframe to a numpy array"
   ]
  },
  {
   "cell_type": "markdown",
   "metadata": {},
   "source": [
    "# Visualize data"
   ]
  },
  {
   "cell_type": "code",
   "execution_count": 3,
   "metadata": {},
   "outputs": [],
   "source": [
    "#visualize(X1, Y1, 'data.png', True) "
   ]
  },
  {
   "cell_type": "markdown",
   "metadata": {},
   "source": [
    "# Data treatments"
   ]
  },
  {
   "cell_type": "code",
   "execution_count": 4,
   "metadata": {},
   "outputs": [
    {
     "name": "stdout",
     "output_type": "stream",
     "text": [
      "(7684, 34)\n"
     ]
    }
   ],
   "source": [
    "# step 1 : handle cyclic values\n",
    "\n",
    "X1_handled = handlecyclic(X1) # handle month, day, hour and wd cyclic features\n",
    "X1_handled = handle_station(X1_handled) # handle station feature\n",
    "X1_handled = add_linear_time(X1_handled) # add a global linear time (with year, month, day, hour features)\n",
    "\n",
    "print(X1_handled.shape)\n",
    "\n"
   ]
  },
  {
   "cell_type": "markdown",
   "metadata": {},
   "source": [
    "# Visualize new data"
   ]
  },
  {
   "cell_type": "code",
   "execution_count": 5,
   "metadata": {},
   "outputs": [],
   "source": [
    "#visualize(X1_handled, Y1, 'new_data.PNG', True) "
   ]
  },
  {
   "cell_type": "markdown",
   "metadata": {},
   "source": [
    "# Data Splitting"
   ]
  },
  {
   "cell_type": "code",
   "execution_count": 6,
   "metadata": {},
   "outputs": [
    {
     "name": "stdout",
     "output_type": "stream",
     "text": [
      "(6147, 34)\n",
      "(1537, 34)\n",
      "(6147, 1)\n",
      "(1537, 1)\n"
     ]
    }
   ],
   "source": [
    "# use of random_state parameter ?\n",
    "X_train_valid, X_test, Y_train_valid, Y_test = train_test_split(X1_handled, Y1, test_size=0.2, random_state=0)\n",
    "\n",
    "print(X_train_valid.shape)\n",
    "print(X_test.shape)\n",
    "print(Y_train_valid.shape)\n",
    "print(Y_test.shape)"
   ]
  },
  {
   "cell_type": "markdown",
   "metadata": {},
   "source": [
    "# Normalisation/Standardisation"
   ]
  },
  {
   "cell_type": "code",
   "execution_count": 7,
   "metadata": {},
   "outputs": [
    {
     "data": {
      "text/plain": [
       "'This funciton takes a imput a dataframe and return a list of the features that are not normal (with threshold alpha)'"
      ]
     },
     "execution_count": 7,
     "metadata": {},
     "output_type": "execute_result"
    }
   ],
   "source": [
    "from scipy.stats import shapiro\n",
    "\n",
    "'''This funciton takes a imput a dataframe and return a list of the features that are not normal (with threshold alpha)'''\n",
    "#list = isnormal(X_train_valid)\n"
   ]
  },
  {
   "cell_type": "code",
   "execution_count": 8,
   "metadata": {},
   "outputs": [],
   "source": [
    "# normalization\n",
    "[X_norm, X_norm_test] = norm(X_train_valid, X_test)\n",
    "\n",
    "X_norm = pd.DataFrame(X_norm)\n",
    "X_norm.columns = X_train_valid.columns\n",
    "\n",
    "X_norm_test = pd.DataFrame(X_norm_test)\n",
    "X_norm_test.columns = X_test.columns\n",
    "\n",
    "# standardisation\n",
    "[X_stand,X_stand_test] = stand(X_train_valid, X_test, False)\n",
    "X_stand = pd.DataFrame(X_stand)\n",
    "X_stand.columns = X_train_valid.columns\n",
    "\n",
    "X_stand_test = pd.DataFrame(X_stand_test)\n",
    "X_stand_test.columns = X_test.columns\n",
    "\n",
    "# robust scaler (outliers)\n",
    "[X_trans,X_trans_test] = robust_scaler(X_train_valid, X_test)\n",
    "X_trans = pd.DataFrame(X_trans)\n",
    "X_trans.columns = X_train_valid.columns\n",
    "X_trans_test = pd.DataFrame(X_trans_test)\n",
    "X_trans_test.columns = X_test.columns\n",
    "\n"
   ]
  },
  {
   "cell_type": "markdown",
   "metadata": {},
   "source": [
    "# Feature selection"
   ]
  },
  {
   "cell_type": "markdown",
   "metadata": {},
   "source": [
    "### with standardisation"
   ]
  },
  {
   "cell_type": "code",
   "execution_count": 9,
   "metadata": {},
   "outputs": [
    {
     "name": "stdout",
     "output_type": "stream",
     "text": [
      "Index(['CO', 'mnth_cos', 'PRES', 'NO2', 'hr_sin', 'WSPM', 'wd_sin', 'SO2',\n",
      "       'DEWP', 'TEMP', 'time', 'O3'],\n",
      "      dtype='object')\n"
     ]
    }
   ],
   "source": [
    "# feature selection\n",
    "\n",
    "# previously\n",
    "'''\n",
    "n = 7 # number of feature to select\n",
    "most_mi = print_mutual_information(X1_handled, X_stand.values, Y_train_valid.values.ravel(), 10)\n",
    "a = len(most_mi)\n",
    "index_selected = most_mi[a-n:a]\n",
    "print(index_selected)\n",
    "X1 = X_stand.values[:,index_selected]\n",
    "X1_test = X_stand_test.values[:,index_selected]\n",
    "'''\n",
    "\n",
    "features = features_selection(X_stand, Y_train_valid.values.ravel(), 7)\n",
    "X_selected_stand = X_stand[features]\n",
    "X_test_selected_stand = X_stand_test[features]\n",
    "\n",
    "\n",
    "print(X_selected_stand.columns)\n",
    "#print(X_test_selected.columns)"
   ]
  },
  {
   "cell_type": "markdown",
   "metadata": {},
   "source": [
    "### with robut_scaler"
   ]
  },
  {
   "cell_type": "code",
   "execution_count": 10,
   "metadata": {},
   "outputs": [
    {
     "name": "stdout",
     "output_type": "stream",
     "text": [
      "Index(['CO', 'mnth_cos', 'PRES', 'NO2', 'hr_sin', 'WSPM', 'wd_sin', 'SO2',\n",
      "       'DEWP', 'TEMP', 'time', 'O3'],\n",
      "      dtype='object')\n"
     ]
    }
   ],
   "source": [
    "features = features_selection(X_trans, Y_train_valid.values.ravel(), 7)\n",
    "X_selected_trans = X_trans[features]\n",
    "X_test_selected_trans = X_trans_test[features]\n",
    "print(X_selected_trans.columns)"
   ]
  },
  {
   "cell_type": "markdown",
   "metadata": {},
   "source": [
    "# Dimensionality reduction (instead of feature selection) using PCA"
   ]
  },
  {
   "cell_type": "code",
   "execution_count": 72,
   "metadata": {},
   "outputs": [
    {
     "name": "stdout",
     "output_type": "stream",
     "text": [
      "[0.26274138 0.12504365 0.10552042 0.06668486 0.05025004 0.0436401\n",
      " 0.03577898]\n",
      "pca.explained_variance_ratio_ =  0.6896594397707401\n"
     ]
    }
   ],
   "source": [
    "from sklearn.decomposition import PCA\n",
    "\n",
    "#pca = PCA()\n",
    "pca = PCA(n_components=7)\n",
    "pca.fit_transform(X_trans)\n",
    "\n",
    "print(pca.explained_variance_ratio_)\n",
    "print(\"pca.explained_variance_ratio_ = \", np.sum(pca.explained_variance_ratio_))\n"
   ]
  },
  {
   "cell_type": "markdown",
   "metadata": {},
   "source": [
    "# Building model"
   ]
  },
  {
   "cell_type": "code",
   "execution_count": 12,
   "metadata": {},
   "outputs": [],
   "source": [
    "def build_model(X_train, Y_train, X_test, Y_test, model):\n",
    "    rmse = 1000\n",
    "    \n",
    "    if model[0]=='linear_regression_tp':\n",
    "        rmse = linear_regression_tp(X_train, Y_train, X_test, Y_test)\n",
    "    \n",
    "    elif model[0] =='rbfn_tp':\n",
    "        rmse = rbfn_tp(X_train, Y_train, X_test, Y_test, model[1], model[2])\n",
    "    \n",
    "    elif model[0] =='KNN':\n",
    "        rmse = KNN(X_train, Y_train, X_test, Y_test)\n",
    "    \n",
    "    elif model[0] =='linear_regression':\n",
    "        rmse = linear_regression(X_train, Y_train, X_test, Y_test)\n",
    "    \n",
    "    elif model[0] =='tree':\n",
    "        rmse = tree(X_train, Y_train, X_test, Y_test)\n",
    "    \n",
    "    elif model[0] =='random_forest':\n",
    "        rmse = random_forest(X_train, Y_train, X_test, Y_test)\n",
    "    \n",
    "    elif model[0] =='MLperceptron':\n",
    "        rmse = MLperceptron(X_train, Y_train, X_test, Y_test)\n",
    "    \n",
    "    elif model[0] =='SVM':\n",
    "        rmse = SVM(X_train, Y_train, X_test, Y_test)\n",
    "    \n",
    "    else:\n",
    "        print('incorrect value for model')\n",
    "    return rmse\n",
    "    \n",
    "    "
   ]
  },
  {
   "cell_type": "markdown",
   "metadata": {},
   "source": [
    "# Performance of the models"
   ]
  },
  {
   "cell_type": "markdown",
   "metadata": {},
   "source": [
    "### with standardisation"
   ]
  },
  {
   "cell_type": "code",
   "execution_count": null,
   "metadata": {},
   "outputs": [],
   "source": [
    "rmse = build_model(X_selected_stand, Y_train_valid, X_test_selected_stand, Y_test, ['rbfn_tp', [20, 30, 40], [4,8]])\n",
    "rmse # 41.109355030141586 # with stand, X_test_selected"
   ]
  },
  {
   "cell_type": "code",
   "execution_count": null,
   "metadata": {},
   "outputs": [],
   "source": [
    "rmse = build_model(X_selected_stand, Y_train_valid, X_test_selected_stand, Y_test, ['linear_regression_tp'])\n",
    "rmse # 45.81350958024227 # with stand, X_test_selected\n",
    "# 46.555418705773626 # with norm, X_test_selected"
   ]
  },
  {
   "cell_type": "code",
   "execution_count": null,
   "metadata": {},
   "outputs": [],
   "source": [
    "rmse_knn = build_model(X_selected_stand, Y_train_valid, X_test_selected_stand, Y_test, ['KNN'])\n",
    "rmse_knn # 41.25390056831065 # with stand, X_test_selected\n",
    "# 45.50425826121668 # with norm, X_test_selected"
   ]
  },
  {
   "cell_type": "code",
   "execution_count": null,
   "metadata": {},
   "outputs": [],
   "source": [
    "rmse_lin_reg = build_model(X_selected_stand, Y_train_valid, X_test_selected_stand, Y_test, ['linear_regression'])\n",
    "rmse_lin_reg # 45.813509580242275 # with stand, X_test_selected\n",
    "# 46.55541870577369 # with norm, X_test_selected"
   ]
  },
  {
   "cell_type": "code",
   "execution_count": null,
   "metadata": {},
   "outputs": [],
   "source": [
    "rmse_tree = build_model(X_selected_stand, Y_train_valid, X_test_selected_stand, Y_test, ['tree'])\n",
    "rmse_tree\n",
    "# very time expensive\n",
    "# 106.71974709600715 # with stand, X_test_selected\n",
    "# 108.58110978903885 # with norm, X_test_selected"
   ]
  },
  {
   "cell_type": "code",
   "execution_count": null,
   "metadata": {},
   "outputs": [],
   "source": [
    "rmse_rf = build_model(X_selected_stand, Y_train_valid, X_test_selected_stand, Y_test, ['random_forest'])\n",
    "rmse_rf # 102.87238489221627 # with stand, X_test_selected\n",
    "# 105.65649031239074 # with norm, X_test_selected"
   ]
  },
  {
   "cell_type": "code",
   "execution_count": null,
   "metadata": {},
   "outputs": [],
   "source": [
    "rmse_mlp = build_model(X_selected_stand, Y_train_valid, X_test_selected_stand, Y_test, ['MLperceptron'])\n",
    "rmse_mlp # 107.77550719298902 # with stand, X_test_selected\n",
    "# 108.22558752681337 # # with norm, X_test_selected"
   ]
  },
  {
   "cell_type": "code",
   "execution_count": null,
   "metadata": {},
   "outputs": [],
   "source": [
    "rmse_svm = build_model(X_selected_stand, Y_train_valid, X_test_selected_stand, Y_test, ['SVM'])\n",
    "rmse_svm # 101.41083882437974, # with stand, X_test_selected\n",
    "# 103.97616339884539 # with norm, X_test_selected"
   ]
  },
  {
   "cell_type": "markdown",
   "metadata": {},
   "source": [
    "### With robust_scaler"
   ]
  },
  {
   "cell_type": "code",
   "execution_count": null,
   "metadata": {},
   "outputs": [],
   "source": [
    "rmse = build_model(X_selected_trans, Y_train_valid, X_test_selected_trans, Y_test, ['rbfn_tp', [20, 30, 40], [4,8]])\n",
    "rmse # 39.89164303057696"
   ]
  },
  {
   "cell_type": "code",
   "execution_count": null,
   "metadata": {},
   "outputs": [],
   "source": [
    "rmse = build_model(X_selected_trans, Y_train_valid, X_test_selected_trans, Y_test, ['linear_regression_tp'])\n",
    "rmse  #45.84108722841299"
   ]
  },
  {
   "cell_type": "code",
   "execution_count": null,
   "metadata": {},
   "outputs": [],
   "source": [
    "rmse_knn = build_model(X_selected_trans, Y_train_valid, X_test_selected_trans, Y_test, ['KNN'])\n",
    "rmse_knn #41.41294425130135"
   ]
  },
  {
   "cell_type": "code",
   "execution_count": null,
   "metadata": {},
   "outputs": [],
   "source": [
    "rmse_lin_reg = build_model(X_selected_trans, Y_train_valid, X_test_selected_trans, Y_test, ['linear_regression'])\n",
    "rmse_lin_reg #45.84108722841296"
   ]
  },
  {
   "cell_type": "code",
   "execution_count": null,
   "metadata": {},
   "outputs": [],
   "source": [
    "rmse_tree = build_model(X_selected_trans, Y_train_valid, X_test_selected_trans, Y_test, ['tree'])\n",
    "rmse_tree #106.77656802081928\n"
   ]
  },
  {
   "cell_type": "code",
   "execution_count": null,
   "metadata": {},
   "outputs": [],
   "source": [
    "rmse_rf = build_model(X_selected_trans, Y_train_valid, X_test_selected_trans, Y_test, ['random_forest'])\n",
    "rmse_rf #103.05823239754994"
   ]
  },
  {
   "cell_type": "code",
   "execution_count": null,
   "metadata": {},
   "outputs": [],
   "source": [
    "rmse_mlp = build_model(X_selected_trans, Y_train_valid, X_test_selected_trans, Y_test, ['MLperceptron'])\n",
    "rmse_mlp #107.39740530330943"
   ]
  },
  {
   "cell_type": "code",
   "execution_count": null,
   "metadata": {},
   "outputs": [],
   "source": [
    "rmse_svm = build_model(X_selected_trans, Y_train_valid, X_test_selected_trans, Y_test, ['SVM'])\n",
    "rmse_svm # 102.00928377653365"
   ]
  },
  {
   "cell_type": "code",
   "execution_count": null,
   "metadata": {},
   "outputs": [],
   "source": []
  },
  {
   "cell_type": "code",
   "execution_count": null,
   "metadata": {},
   "outputs": [],
   "source": []
  },
  {
   "cell_type": "code",
   "execution_count": 21,
   "metadata": {},
   "outputs": [],
   "source": [
    "def tree_print2(X_train, Y_train, X_test, Y_test ):\n",
    "    param_grid = {'max_depth':[2,5,10,20],\n",
    "        'min_impurity_decrease':[0, 0.01, 0.1],\n",
    "        \"min_samples_leaf\" : [5,10,20,50],\n",
    "        'criterion':['mse']}\n",
    "    Tree = DecisionTreeRegressor()\n",
    "\n",
    "    grid = GridSearchCV(Tree, param_grid, cv = 5, scoring = M_squared_error)\n",
    "    grid.fit(X_train,Y_train)\n",
    "\n",
    "    print (grid.best_score_)\n",
    "    print (grid.best_params_)\n",
    "    print (grid.best_estimator_)\n",
    "\n",
    "    clf = grid.best_estimator_\n",
    "    clf.fit(X_train,Y_train)\n",
    "    \n",
    "    pred_train = clf.predict(X_train[X_train.columns])\n",
    "    pred_test = clf.predict(X_test[X_train.columns])\n",
    "    \n",
    "    return [rmse(pred_train, Y_train.values), rmse(pred_test,Y_test.values)]"
   ]
  },
  {
   "cell_type": "code",
   "execution_count": 22,
   "metadata": {},
   "outputs": [
    {
     "name": "stdout",
     "output_type": "stream",
     "text": [
      "-44.2400807007485\n",
      "{'criterion': 'mse', 'max_depth': 10, 'min_impurity_decrease': 0.01, 'min_samples_leaf': 10}\n",
      "DecisionTreeRegressor(criterion='mse', max_depth=10, max_features=None,\n",
      "                      max_leaf_nodes=None, min_impurity_decrease=0.01,\n",
      "                      min_impurity_split=None, min_samples_leaf=10,\n",
      "                      min_samples_split=2, min_weight_fraction_leaf=0.0,\n",
      "                      presort=False, random_state=None, splitter='best')\n"
     ]
    },
    {
     "data": {
      "text/plain": [
       "[109.68991374782293, 109.22918292181537]"
      ]
     },
     "execution_count": 22,
     "metadata": {},
     "output_type": "execute_result"
    }
   ],
   "source": [
    "rmses = tree_print2(X_selected_trans, Y_train_valid, X_test_selected_trans, Y_test)\n",
    "rmses"
   ]
  },
  {
   "cell_type": "code",
   "execution_count": null,
   "metadata": {},
   "outputs": [],
   "source": []
  },
  {
   "cell_type": "code",
   "execution_count": null,
   "metadata": {},
   "outputs": [],
   "source": []
  },
  {
   "cell_type": "code",
   "execution_count": 49,
   "metadata": {},
   "outputs": [],
   "source": [
    "def print_KNN(X_train, Y_train, X_test, Y_test, k_range):\n",
    "    \n",
    "    #k_range=list(range(1,31)) + [50,100]\n",
    "    #k_range= [50,100]\n",
    "    #k_range=[500,1000]\n",
    "    \n",
    "    weight_options = [\"uniform\"]\n",
    "    #weight_options = [\"distance\"]\n",
    "    param_grid = dict(n_neighbors = k_range, weights = weight_options)\n",
    "    \n",
    "    knn = KNeighborsRegressor()\n",
    "    \n",
    "    grid = GridSearchCV(knn, param_grid, cv = 5, scoring = M_squared_error)\n",
    "    grid.fit(X_train,Y_train)\n",
    "\n",
    "    #print (grid.best_score_)\n",
    "    #print (grid.best_params_)\n",
    "    #print (grid.best_estimator_)\n",
    "\n",
    "    clf = grid.best_estimator_\n",
    "    clf.fit(X_train,Y_train)\n",
    "\n",
    "    pred_train = clf.predict(X_train[X_train.columns])\n",
    "    pred_test = clf.predict(X_test[X_train.columns])\n",
    "    return [rmse(pred_train,Y_train.values),rmse(pred_test,Y_test.values)]"
   ]
  },
  {
   "cell_type": "code",
   "execution_count": 69,
   "metadata": {},
   "outputs": [],
   "source": [
    "# How vary RMSE according to the number if neighbors, for the train_set and the test_set\n",
    "rmses_train = list()\n",
    "rmses_test = list()\n",
    "\n",
    "for i in range(2, 30):\n",
    "    [rmse_train, rmse_test] = print_KNN(X_selected_stand, Y_train_valid, X_test_selected_stand, Y_test, list(range(i-1,i)))\n",
    "    #print(rmse_train, rmse_test)\n",
    "    rmses_train.append(rmse_train)\n",
    "    rmses_test.append(rmse_test)\n",
    "\n",
    "\n"
   ]
  },
  {
   "cell_type": "code",
   "execution_count": 68,
   "metadata": {},
   "outputs": [],
   "source": [
    "import matplotlib.pyplot as plt\n",
    "\n",
    "if False:\n",
    "    plt.figure(dpi=300)\n",
    "    plt.title('RMSE for KNN')\n",
    "    plt.plot(list(range(1,29)), rmses_train, label='rmse_train')\n",
    "    plt.plot(list(range(1,29)), rmses_test, label='rmse_test')\n",
    "    plt.xlabel('n_neighbors parameter')\n",
    "    plt.ylabel('RMSE')\n",
    "    plt.legend()\n",
    "    #plt.show()\n",
    "    plt.savefig('knn_plot.png')\n",
    "\n",
    "    plt.figure(dpi=300)\n",
    "    plt.title('RMSE for KNN')\n",
    "    plt.scatter(list(range(1,29)), rmses_train, label='rmse_train')\n",
    "    plt.scatter(list(range(1,29)), rmses_test, label='rmse_test')\n",
    "    plt.xlabel('n_neighbors parameter')\n",
    "    plt.ylabel('RMSE')\n",
    "    plt.legend()\n",
    "    #plt.show()\n",
    "    plt.savefig('knn_scatter.png')\n",
    "\n"
   ]
  },
  {
   "cell_type": "code",
   "execution_count": null,
   "metadata": {},
   "outputs": [],
   "source": []
  },
  {
   "cell_type": "code",
   "execution_count": null,
   "metadata": {},
   "outputs": [],
   "source": []
  },
  {
   "cell_type": "code",
   "execution_count": 104,
   "metadata": {},
   "outputs": [],
   "source": [
    "def print_SVM(X_train, Y_train, X_test, Y_test, c=10, g='auto', e=0.1 ):\n",
    "    \n",
    "    svc = svm.SVR(kernel= 'linear', C=c, gamma=g, epsilon=e)\n",
    "    #grid = GridSearchCV(svc, parameters, cv=5,scoring = M_squared_error)\n",
    "    #grid.fit(X_train,Y_train.values.ravel())\n",
    "    \n",
    "    svc.fit(X_train,Y_train.values.ravel())\n",
    "    pred_train = svc.predict(X_train[X_train.columns])\n",
    "    pred_test = svc.predict(X_test[X_train.columns])\n",
    "\n",
    "    #print (grid.best_score_)\n",
    "    #print (grid.best_params_)\n",
    "    #print (grid.best_estimator_)\n",
    "\n",
    "\n",
    "    #clf = grid.best_estimator_\n",
    "    #clf.fit(X_train,Y_train.values.ravel())\n",
    "\n",
    "    #pred_train = clf.predict(X_train[X_train.columns])\n",
    "    #pred_test = clf.predict(X_test[X_train.columns])\n",
    "    return [rmse(pred_train,Y_train.values), rmse(pred_test,Y_test.values)]"
   ]
  },
  {
   "cell_type": "code",
   "execution_count": 106,
   "metadata": {},
   "outputs": [
    {
     "name": "stdout",
     "output_type": "stream",
     "text": [
      "104.35435749781804 104.82746576357424\n"
     ]
    }
   ],
   "source": [
    "rmses_train = list()\n",
    "rmses_test = list()\n",
    "\n",
    "[rmse_train, rmse_test] = print_SVM(X_selected_stand, Y_train_valid, X_test_selected_stand, Y_test)\n",
    "rmses_train.append(rmse_train)\n",
    "rmses_test.append(rmse_test)\n",
    "print(rmse_train, rmse_test)"
   ]
  },
  {
   "cell_type": "code",
   "execution_count": null,
   "metadata": {},
   "outputs": [],
   "source": []
  },
  {
   "cell_type": "code",
   "execution_count": null,
   "metadata": {},
   "outputs": [],
   "source": []
  },
  {
   "cell_type": "code",
   "execution_count": null,
   "metadata": {},
   "outputs": [],
   "source": []
  },
  {
   "cell_type": "markdown",
   "metadata": {},
   "source": [
    "# Outliers"
   ]
  },
  {
   "cell_type": "code",
   "execution_count": null,
   "metadata": {},
   "outputs": [],
   "source": [
    "#The histrogam below plot the output Y1 for the train-valid set\n",
    "hist = Y_test.hist(bins=300)\n",
    "\n"
   ]
  },
  {
   "cell_type": "code",
   "execution_count": null,
   "metadata": {},
   "outputs": [],
   "source": [
    "i = 400\n",
    "X_selected_outliers = X_selected.loc[list(Y_train_valid['Label']<i)]\n",
    "Y_train_valid_outliers = Y_train_valid[list(Y_train_valid['Label']<i)]\n",
    "print(X_selected.shape)\n",
    "print(X_selected_outliers.shape)\n",
    "\n"
   ]
  },
  {
   "cell_type": "code",
   "execution_count": null,
   "metadata": {},
   "outputs": [],
   "source": [
    "rmse_lin_reg_outlier = build_model(X_selected_outliers, Y_train_valid_outliers, X_test_selected, Y_test, ['linear_regression'])\n",
    "rmse_lin_reg_outlier # 45.813509580242254 # with stand, X_test_selected\n",
    "                    # 46.32600875114827 # with stand, X_test_selected_outlier"
   ]
  },
  {
   "cell_type": "code",
   "execution_count": null,
   "metadata": {},
   "outputs": [],
   "source": [
    "rmse_knn_outlier = build_model(X_selected_outliers, Y_train_valid_outliers, X_test_selected, Y_test, ['KNN'])\n",
    "rmse_knn_outlier # 41.25390056831065 # with stand, X_test_selected\n",
    "                # 44.26778845376413  # with stand, X_test_selected_outlier"
   ]
  },
  {
   "cell_type": "markdown",
   "metadata": {},
   "source": [
    "# Reducing dimentions PCA (after feature selection)"
   ]
  },
  {
   "cell_type": "code",
   "execution_count": null,
   "metadata": {},
   "outputs": [],
   "source": [
    "from sklearn.decomposition import PCA\n",
    "\n",
    "pca = PCA()\n",
    "\n",
    "pca = PCA(n_components=5)\n",
    "pca.fit_transform(X_selected)\n",
    "\n",
    "print(pca.explained_variance_ratio_)\n",
    "print(\"pca.explained_variance_ratio_ = \", np.sum(pca.explained_variance_ratio_))\n"
   ]
  },
  {
   "cell_type": "code",
   "execution_count": null,
   "metadata": {},
   "outputs": [],
   "source": [
    "X_selected_pca = pd.DataFrame(pca.transform(X_selected))\n",
    "X_test_selected_pca = pd.DataFrame(pca.transform(X_test_selected))\n",
    "print(X_selected_pca)\n"
   ]
  },
  {
   "cell_type": "code",
   "execution_count": null,
   "metadata": {},
   "outputs": [],
   "source": [
    "rmse_lin_reg_pca = build_model(X_selected_pca, Y_train_valid, X_test_selected_pca, Y_test, ['linear_regression'])\n",
    "rmse_lin_reg_pca # 45.813509580242254 # with stand, X_test_selected\n",
    "                    # 52.12101428226876 # with stand, X_test_selected_pca"
   ]
  },
  {
   "cell_type": "code",
   "execution_count": null,
   "metadata": {},
   "outputs": [],
   "source": []
  }
 ],
 "metadata": {
  "kernelspec": {
   "display_name": "Python 3",
   "language": "python",
   "name": "python3"
  },
  "language_info": {
   "codemirror_mode": {
    "name": "ipython",
    "version": 3
   },
   "file_extension": ".py",
   "mimetype": "text/x-python",
   "name": "python",
   "nbconvert_exporter": "python",
   "pygments_lexer": "ipython3",
   "version": "3.7.3"
  }
 },
 "nbformat": 4,
 "nbformat_minor": 2
}
