{
 "cells": [
  {
   "cell_type": "markdown",
   "metadata": {},
   "source": [
    "# Imports"
   ]
  },
  {
   "cell_type": "code",
   "execution_count": 45,
   "metadata": {},
   "outputs": [],
   "source": [
    "import pandas as pd\n",
    "from sklearn.model_selection import train_test_split\n",
    "\n",
    "from visualize import *\n",
    "from data_treatments import *\n",
    "from feature_selection import *\n",
    "\n",
    "from tp.competitive_learning import *\n",
    "from tp.linear_model import *\n",
    "from tp.rbfn import *"
   ]
  },
  {
   "cell_type": "markdown",
   "metadata": {},
   "source": [
    "# Load data"
   ]
  },
  {
   "cell_type": "code",
   "execution_count": 46,
   "metadata": {},
   "outputs": [],
   "source": [
    "X1 = pd.read_csv(\"../data/X1.csv\") # [7684 rows x 15 columns]\n",
    "Y1 = pd.read_csv(\"../data/Y1.csv\",sep='\\t',names=[\"Label\"]) # [7684 rows x 1 columns]\n",
    "X2 = pd.read_csv(\"../data/X2.csv\") # [3787 rows x 15 columns]\n",
    "\n",
    "# X1 = X1.values # converting pandas dataframe to a numpy array"
   ]
  },
  {
   "cell_type": "markdown",
   "metadata": {},
   "source": [
    "# Visualize data"
   ]
  },
  {
   "cell_type": "code",
   "execution_count": 3,
   "metadata": {},
   "outputs": [],
   "source": [
    "#visualize(X1, Y1, 'data.png', True) "
   ]
  },
  {
   "cell_type": "markdown",
   "metadata": {},
   "source": [
    "# Data treatments"
   ]
  },
  {
   "cell_type": "code",
   "execution_count": 47,
   "metadata": {},
   "outputs": [
    {
     "name": "stdout",
     "output_type": "stream",
     "text": [
      "(7684, 34)\n"
     ]
    }
   ],
   "source": [
    "# step 1 : handle cyclic values\n",
    "\n",
    "X1_handled = handlecyclic(X1) # handle month, day, hour and wd cyclic features\n",
    "X1_handled = handle_station(X1_handled) # handle station feature\n",
    "X1_handled = add_linear_time(X1_handled) # add a global linear time (with year, month, day, hour features)\n",
    "\n",
    "print(X1_handled.shape)\n",
    "\n"
   ]
  },
  {
   "cell_type": "markdown",
   "metadata": {},
   "source": [
    "# Visualize new data"
   ]
  },
  {
   "cell_type": "code",
   "execution_count": 5,
   "metadata": {},
   "outputs": [],
   "source": [
    "#visualize(X1_handled, Y1, 'new_data.png', True) "
   ]
  },
  {
   "cell_type": "markdown",
   "metadata": {},
   "source": [
    "# Data Splitting"
   ]
  },
  {
   "cell_type": "code",
   "execution_count": 48,
   "metadata": {},
   "outputs": [
    {
     "name": "stdout",
     "output_type": "stream",
     "text": [
      "(6147, 34)\n",
      "(1537, 34)\n",
      "(6147, 1)\n",
      "(1537, 1)\n"
     ]
    }
   ],
   "source": [
    "# use of random_state parameter ?\n",
    "X_train_valid, X_test, Y_train_valid, Y_test = train_test_split(X1_handled, Y1, test_size=0.2, random_state=0)\n",
    "\n",
    "print(X_train_valid.shape)\n",
    "print(X_test.shape)\n",
    "print(Y_train_valid.shape)\n",
    "print(Y_test.shape)"
   ]
  },
  {
   "cell_type": "markdown",
   "metadata": {},
   "source": [
    "# Normalisation/Standardisation and features selection"
   ]
  },
  {
   "cell_type": "code",
   "execution_count": 54,
   "metadata": {},
   "outputs": [
    {
     "name": "stdout",
     "output_type": "stream",
     "text": [
      "Mutual Information : \n",
      "mutual_information =  0.05466198033008851 \t \t 8 TEMP\n",
      "mutual_information =  0.055069884140506176 \t \t 1 month\n",
      "mutual_information =  0.05584882544631942 \t \t 9 PRES\n",
      "mutual_information =  0.09147456322777003 \t \t 12 WSPM\n",
      "mutual_information =  0.13536770942468923 \t \t 33 time\n",
      "mutual_information =  0.14580728482424377 \t \t 10 DEWP\n",
      "mutual_information =  0.1460998843001624 \t \t 7 O3\n",
      "mutual_information =  0.1717893831683277 \t \t 4 SO2\n",
      "mutual_information =  0.35357712663916807 \t \t 5 NO2\n",
      "mutual_information =  0.6576062979029422 \t \t 6 CO\n",
      "[12 33 10  7  4  5  6]\n"
     ]
    }
   ],
   "source": [
    "# normalization\n",
    "X_norm = norm(X_train_valid)\n",
    "X_norm = pd.DataFrame(X_norm)\n",
    "X_norm.columns = X_train_valid.columns\n",
    "\n",
    "X_norm_test = norm(X_test)\n",
    "X_norm_test = pd.DataFrame(X_norm_test)\n",
    "X_norm_test.columns = X_test.columns\n",
    "\n",
    "# standardisation\n",
    "X_stand = stand(X_train_valid)\n",
    "X_stand = pd.DataFrame(X_stand)\n",
    "X_stand.columns = X_train_valid.columns\n",
    "\n",
    "X_stand_test = stand(X_test)\n",
    "X_stand_test = pd.DataFrame(X_stand_test)\n",
    "X_stand_test.columns = X_test.columns\n",
    "\n",
    "# feature selection\n",
    "n = 7 # number of feature to select\n",
    "most_mi = print_mutual_information(X1_handled, X_stand.values, Y_train_valid.values.ravel(), 10)\n",
    "\n",
    "a = len(most_mi)\n",
    "index_selected = most_mi[a-n:a]\n",
    "print(index_selected)\n",
    "\n",
    "X1 = X_stand.values[:,index_selected]\n",
    "X1_test = X_stand_test.values[:,index_selected]\n"
   ]
  },
  {
   "cell_type": "code",
   "execution_count": null,
   "metadata": {},
   "outputs": [],
   "source": []
  },
  {
   "cell_type": "markdown",
   "metadata": {},
   "source": [
    "# Main Loop"
   ]
  },
  {
   "cell_type": "code",
   "execution_count": 44,
   "metadata": {},
   "outputs": [],
   "source": [
    "def build_model(X_train, Y_train, X_test, Y_test, model):\n",
    "    \n",
    "    if model[0]=='linear_regression':\n",
    "        print('todo')\n",
    "    \n",
    "    elif model[0] =='rbfn':\n",
    "        n_center = model[1] # ex : [x for x in range(2,100,10)]\n",
    "        smooth_f = model[2] # ex : [0.5, 1, 2, 4, 8, 16]\n",
    "\n",
    "        rmses = {}\n",
    "        best = {'rmse':1000}\n",
    "\n",
    "        for nc in n_center:\n",
    "            print(\"number of centers : \",nc)\n",
    "            rmses[nc] = list()\n",
    "\n",
    "            for sf in smooth_f:\n",
    "                print(\"smooth_f : \",sf)\n",
    "\n",
    "                rmse = score_rbfn(nc, sf, X1_train_selected, Y1_train, X1_valid_selected, Y1_valid)\n",
    "                rmses[nc].append(rmse)\n",
    "\n",
    "                if rmse < best['rmse']:\n",
    "                    best['rmse'] = rmse\n",
    "                    best['n_center'] = nc\n",
    "                    best['smooth_f']= sf\n",
    "        return [rmses, best]\n",
    "    \n",
    "    \n",
    "    else:\n",
    "        print('incorrect value for model')\n",
    "    \n",
    "    \n",
    "    "
   ]
  },
  {
   "cell_type": "code",
   "execution_count": null,
   "metadata": {},
   "outputs": [],
   "source": [
    "build_model()"
   ]
  }
 ],
 "metadata": {
  "kernelspec": {
   "display_name": "Python 3",
   "language": "python",
   "name": "python3"
  },
  "language_info": {
   "codemirror_mode": {
    "name": "ipython",
    "version": 3
   },
   "file_extension": ".py",
   "mimetype": "text/x-python",
   "name": "python",
   "nbconvert_exporter": "python",
   "pygments_lexer": "ipython3",
   "version": "3.7.3"
  }
 },
 "nbformat": 4,
 "nbformat_minor": 2
}
